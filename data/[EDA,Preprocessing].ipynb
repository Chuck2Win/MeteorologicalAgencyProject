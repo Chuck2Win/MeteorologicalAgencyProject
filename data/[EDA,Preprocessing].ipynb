{
  "nbformat": 4,
  "nbformat_minor": 0,
  "metadata": {
    "colab": {
      "name": "[기상청][EDA,Preprocessing].ipynb",
      "provenance": [],
      "collapsed_sections": [],
      "machine_shape": "hm"
    },
    "kernelspec": {
      "name": "python3",
      "display_name": "Python 3"
    }
  },
  "cells": [
    {
      "cell_type": "code",
      "metadata": {
        "id": "CpsI3-IR70wC",
        "colab": {
          "base_uri": "https://localhost:8080/"
        },
        "outputId": "013d4938-7e93-4567-c286-d0b5af4c1e31"
      },
      "source": [
        "! pip install transformers\r\n",
        "! pip install kobert-transformers\r\n",
        "! pip install sentencepiece\r\n",
        "! pip install konlpy\r\n",
        "! pip install kss"
      ],
      "execution_count": 58,
      "outputs": [
        {
          "output_type": "stream",
          "text": [
            "Requirement already satisfied: transformers in /usr/local/lib/python3.6/dist-packages (4.3.2)\n",
            "Requirement already satisfied: numpy>=1.17 in /usr/local/lib/python3.6/dist-packages (from transformers) (1.19.5)\n",
            "Requirement already satisfied: regex!=2019.12.17 in /usr/local/lib/python3.6/dist-packages (from transformers) (2019.12.20)\n",
            "Requirement already satisfied: dataclasses; python_version < \"3.7\" in /usr/local/lib/python3.6/dist-packages (from transformers) (0.8)\n",
            "Requirement already satisfied: sacremoses in /usr/local/lib/python3.6/dist-packages (from transformers) (0.0.43)\n",
            "Requirement already satisfied: tqdm>=4.27 in /usr/local/lib/python3.6/dist-packages (from transformers) (4.41.1)\n",
            "Requirement already satisfied: tokenizers<0.11,>=0.10.1 in /usr/local/lib/python3.6/dist-packages (from transformers) (0.10.1)\n",
            "Requirement already satisfied: importlib-metadata; python_version < \"3.8\" in /usr/local/lib/python3.6/dist-packages (from transformers) (3.4.0)\n",
            "Requirement already satisfied: requests in /usr/local/lib/python3.6/dist-packages (from transformers) (2.23.0)\n",
            "Requirement already satisfied: packaging in /usr/local/lib/python3.6/dist-packages (from transformers) (20.9)\n",
            "Requirement already satisfied: filelock in /usr/local/lib/python3.6/dist-packages (from transformers) (3.0.12)\n",
            "Requirement already satisfied: joblib in /usr/local/lib/python3.6/dist-packages (from sacremoses->transformers) (1.0.0)\n",
            "Requirement already satisfied: click in /usr/local/lib/python3.6/dist-packages (from sacremoses->transformers) (7.1.2)\n",
            "Requirement already satisfied: six in /usr/local/lib/python3.6/dist-packages (from sacremoses->transformers) (1.15.0)\n",
            "Requirement already satisfied: typing-extensions>=3.6.4; python_version < \"3.8\" in /usr/local/lib/python3.6/dist-packages (from importlib-metadata; python_version < \"3.8\"->transformers) (3.7.4.3)\n",
            "Requirement already satisfied: zipp>=0.5 in /usr/local/lib/python3.6/dist-packages (from importlib-metadata; python_version < \"3.8\"->transformers) (3.4.0)\n",
            "Requirement already satisfied: chardet<4,>=3.0.2 in /usr/local/lib/python3.6/dist-packages (from requests->transformers) (3.0.4)\n",
            "Requirement already satisfied: idna<3,>=2.5 in /usr/local/lib/python3.6/dist-packages (from requests->transformers) (2.10)\n",
            "Requirement already satisfied: urllib3!=1.25.0,!=1.25.1,<1.26,>=1.21.1 in /usr/local/lib/python3.6/dist-packages (from requests->transformers) (1.24.3)\n",
            "Requirement already satisfied: certifi>=2017.4.17 in /usr/local/lib/python3.6/dist-packages (from requests->transformers) (2020.12.5)\n",
            "Requirement already satisfied: pyparsing>=2.0.2 in /usr/local/lib/python3.6/dist-packages (from packaging->transformers) (2.4.7)\n",
            "Requirement already satisfied: kobert-transformers in /usr/local/lib/python3.6/dist-packages (0.4.1)\n",
            "Requirement already satisfied: torch>=1.1.0 in /usr/local/lib/python3.6/dist-packages (from kobert-transformers) (1.7.0+cu101)\n",
            "Requirement already satisfied: transformers>=2.9.1 in /usr/local/lib/python3.6/dist-packages (from kobert-transformers) (4.3.2)\n",
            "Requirement already satisfied: future in /usr/local/lib/python3.6/dist-packages (from torch>=1.1.0->kobert-transformers) (0.16.0)\n",
            "Requirement already satisfied: dataclasses in /usr/local/lib/python3.6/dist-packages (from torch>=1.1.0->kobert-transformers) (0.8)\n",
            "Requirement already satisfied: numpy in /usr/local/lib/python3.6/dist-packages (from torch>=1.1.0->kobert-transformers) (1.19.5)\n",
            "Requirement already satisfied: typing-extensions in /usr/local/lib/python3.6/dist-packages (from torch>=1.1.0->kobert-transformers) (3.7.4.3)\n",
            "Requirement already satisfied: tqdm>=4.27 in /usr/local/lib/python3.6/dist-packages (from transformers>=2.9.1->kobert-transformers) (4.41.1)\n",
            "Requirement already satisfied: sacremoses in /usr/local/lib/python3.6/dist-packages (from transformers>=2.9.1->kobert-transformers) (0.0.43)\n",
            "Requirement already satisfied: regex!=2019.12.17 in /usr/local/lib/python3.6/dist-packages (from transformers>=2.9.1->kobert-transformers) (2019.12.20)\n",
            "Requirement already satisfied: tokenizers<0.11,>=0.10.1 in /usr/local/lib/python3.6/dist-packages (from transformers>=2.9.1->kobert-transformers) (0.10.1)\n",
            "Requirement already satisfied: importlib-metadata; python_version < \"3.8\" in /usr/local/lib/python3.6/dist-packages (from transformers>=2.9.1->kobert-transformers) (3.4.0)\n",
            "Requirement already satisfied: packaging in /usr/local/lib/python3.6/dist-packages (from transformers>=2.9.1->kobert-transformers) (20.9)\n",
            "Requirement already satisfied: filelock in /usr/local/lib/python3.6/dist-packages (from transformers>=2.9.1->kobert-transformers) (3.0.12)\n",
            "Requirement already satisfied: requests in /usr/local/lib/python3.6/dist-packages (from transformers>=2.9.1->kobert-transformers) (2.23.0)\n",
            "Requirement already satisfied: six in /usr/local/lib/python3.6/dist-packages (from sacremoses->transformers>=2.9.1->kobert-transformers) (1.15.0)\n",
            "Requirement already satisfied: joblib in /usr/local/lib/python3.6/dist-packages (from sacremoses->transformers>=2.9.1->kobert-transformers) (1.0.0)\n",
            "Requirement already satisfied: click in /usr/local/lib/python3.6/dist-packages (from sacremoses->transformers>=2.9.1->kobert-transformers) (7.1.2)\n",
            "Requirement already satisfied: zipp>=0.5 in /usr/local/lib/python3.6/dist-packages (from importlib-metadata; python_version < \"3.8\"->transformers>=2.9.1->kobert-transformers) (3.4.0)\n",
            "Requirement already satisfied: pyparsing>=2.0.2 in /usr/local/lib/python3.6/dist-packages (from packaging->transformers>=2.9.1->kobert-transformers) (2.4.7)\n",
            "Requirement already satisfied: idna<3,>=2.5 in /usr/local/lib/python3.6/dist-packages (from requests->transformers>=2.9.1->kobert-transformers) (2.10)\n",
            "Requirement already satisfied: urllib3!=1.25.0,!=1.25.1,<1.26,>=1.21.1 in /usr/local/lib/python3.6/dist-packages (from requests->transformers>=2.9.1->kobert-transformers) (1.24.3)\n",
            "Requirement already satisfied: certifi>=2017.4.17 in /usr/local/lib/python3.6/dist-packages (from requests->transformers>=2.9.1->kobert-transformers) (2020.12.5)\n",
            "Requirement already satisfied: chardet<4,>=3.0.2 in /usr/local/lib/python3.6/dist-packages (from requests->transformers>=2.9.1->kobert-transformers) (3.0.4)\n",
            "Requirement already satisfied: sentencepiece in /usr/local/lib/python3.6/dist-packages (0.1.95)\n",
            "Requirement already satisfied: konlpy in /usr/local/lib/python3.6/dist-packages (0.5.2)\n",
            "Requirement already satisfied: JPype1>=0.7.0 in /usr/local/lib/python3.6/dist-packages (from konlpy) (1.2.1)\n",
            "Requirement already satisfied: lxml>=4.1.0 in /usr/local/lib/python3.6/dist-packages (from konlpy) (4.2.6)\n",
            "Requirement already satisfied: tweepy>=3.7.0 in /usr/local/lib/python3.6/dist-packages (from konlpy) (3.10.0)\n",
            "Requirement already satisfied: colorama in /usr/local/lib/python3.6/dist-packages (from konlpy) (0.4.4)\n",
            "Requirement already satisfied: beautifulsoup4==4.6.0 in /usr/local/lib/python3.6/dist-packages (from konlpy) (4.6.0)\n",
            "Requirement already satisfied: numpy>=1.6 in /usr/local/lib/python3.6/dist-packages (from konlpy) (1.19.5)\n",
            "Requirement already satisfied: typing-extensions; python_version < \"3.8\" in /usr/local/lib/python3.6/dist-packages (from JPype1>=0.7.0->konlpy) (3.7.4.3)\n",
            "Requirement already satisfied: requests[socks]>=2.11.1 in /usr/local/lib/python3.6/dist-packages (from tweepy>=3.7.0->konlpy) (2.23.0)\n",
            "Requirement already satisfied: requests-oauthlib>=0.7.0 in /usr/local/lib/python3.6/dist-packages (from tweepy>=3.7.0->konlpy) (1.3.0)\n",
            "Requirement already satisfied: six>=1.10.0 in /usr/local/lib/python3.6/dist-packages (from tweepy>=3.7.0->konlpy) (1.15.0)\n",
            "Requirement already satisfied: certifi>=2017.4.17 in /usr/local/lib/python3.6/dist-packages (from requests[socks]>=2.11.1->tweepy>=3.7.0->konlpy) (2020.12.5)\n",
            "Requirement already satisfied: chardet<4,>=3.0.2 in /usr/local/lib/python3.6/dist-packages (from requests[socks]>=2.11.1->tweepy>=3.7.0->konlpy) (3.0.4)\n",
            "Requirement already satisfied: idna<3,>=2.5 in /usr/local/lib/python3.6/dist-packages (from requests[socks]>=2.11.1->tweepy>=3.7.0->konlpy) (2.10)\n",
            "Requirement already satisfied: urllib3!=1.25.0,!=1.25.1,<1.26,>=1.21.1 in /usr/local/lib/python3.6/dist-packages (from requests[socks]>=2.11.1->tweepy>=3.7.0->konlpy) (1.24.3)\n",
            "Requirement already satisfied: PySocks!=1.5.7,>=1.5.6; extra == \"socks\" in /usr/local/lib/python3.6/dist-packages (from requests[socks]>=2.11.1->tweepy>=3.7.0->konlpy) (1.7.1)\n",
            "Requirement already satisfied: oauthlib>=3.0.0 in /usr/local/lib/python3.6/dist-packages (from requests-oauthlib>=0.7.0->tweepy>=3.7.0->konlpy) (3.1.0)\n",
            "Requirement already satisfied: kss in /usr/local/lib/python3.6/dist-packages (2.5.0)\n",
            "Requirement already satisfied: imblearn in /usr/local/lib/python3.6/dist-packages (0.0)\n",
            "Requirement already satisfied: imbalanced-learn in /usr/local/lib/python3.6/dist-packages (from imblearn) (0.4.3)\n",
            "Requirement already satisfied: scipy>=0.13.3 in /usr/local/lib/python3.6/dist-packages (from imbalanced-learn->imblearn) (1.4.1)\n",
            "Requirement already satisfied: scikit-learn>=0.20 in /usr/local/lib/python3.6/dist-packages (from imbalanced-learn->imblearn) (0.22.2.post1)\n",
            "Requirement already satisfied: numpy>=1.8.2 in /usr/local/lib/python3.6/dist-packages (from imbalanced-learn->imblearn) (1.19.5)\n",
            "Requirement already satisfied: joblib>=0.11 in /usr/local/lib/python3.6/dist-packages (from scikit-learn>=0.20->imbalanced-learn->imblearn) (1.0.0)\n"
          ],
          "name": "stdout"
        }
      ]
    },
    {
      "cell_type": "code",
      "metadata": {
        "id": "HkxFUF_tHJP2"
      },
      "source": [
        "import pandas as pd\r\n",
        "from pandas import DataFrame as df\r\n",
        "import numpy as np\r\n",
        "import seaborn as sns\r\n",
        "import re\r\n",
        "import os\r\n",
        "from google.colab import drive\r\n",
        "import time,datetime\r\n",
        "from tqdm import tqdm\r\n",
        "import copy\r\n",
        "from matplotlib import pyplot as plt\r\n",
        "from kobert_transformers import get_kobert_model,get_tokenizer\r\n",
        "import kss\r\n",
        "drive.mount('/content/gdrive')\r\n",
        "os.chdir('./gdrive/My Drive/기상청')\r\n",
        "# BERT Tokenizer\r\n",
        "tokenizer = get_tokenizer()\r\n",
        "# BERT Model\r\n",
        "kobert = get_kobert_model()"
      ],
      "execution_count": 63,
      "outputs": []
    },
    {
      "cell_type": "markdown",
      "metadata": {
        "id": "OJMRR8hx-NXj"
      },
      "source": [
        "# EDA"
      ]
    },
    {
      "cell_type": "code",
      "metadata": {
        "id": "bqnko0MO6XIs"
      },
      "source": [
        "data = pd.read_csv('./Final_data.csv')\r\n",
        "data.rename(columns = {'피해' : 'damage', 'Title':'title'}, inplace = True)"
      ],
      "execution_count": 73,
      "outputs": []
    },
    {
      "cell_type": "code",
      "metadata": {
        "colab": {
          "base_uri": "https://localhost:8080/",
          "height": 195
        },
        "id": "mfkD_OgY6aMD",
        "outputId": "d0ae3ff8-3de4-4d5f-fa9e-c46be444173b"
      },
      "source": [
        "data.head()"
      ],
      "execution_count": 11,
      "outputs": [
        {
          "output_type": "execute_result",
          "data": {
            "text/html": [
              "<div>\n",
              "<style scoped>\n",
              "    .dataframe tbody tr th:only-of-type {\n",
              "        vertical-align: middle;\n",
              "    }\n",
              "\n",
              "    .dataframe tbody tr th {\n",
              "        vertical-align: top;\n",
              "    }\n",
              "\n",
              "    .dataframe thead th {\n",
              "        text-align: right;\n",
              "    }\n",
              "</style>\n",
              "<table border=\"1\" class=\"dataframe\">\n",
              "  <thead>\n",
              "    <tr style=\"text-align: right;\">\n",
              "      <th></th>\n",
              "      <th>title</th>\n",
              "      <th>maintext</th>\n",
              "      <th>damage</th>\n",
              "    </tr>\n",
              "  </thead>\n",
              "  <tbody>\n",
              "    <tr>\n",
              "      <th>0</th>\n",
              "      <td>동국대일산병원, 무더위 속 '얼음생수 나눔 캠페인' 펼쳐</td>\n",
              "      <td>동국대학교 일산병원(병원장 이해원)은 병원 정문 앞 버스 승강장과 택시 승강장에서 ...</td>\n",
              "      <td>0</td>\n",
              "    </tr>\n",
              "    <tr>\n",
              "      <th>1</th>\n",
              "      <td>폭염에 따른 하수처리장 및 공공하수도 안전점검</td>\n",
              "      <td>연천군 맑은물관리사업소는 연일 이어지는 폭염속에 식수 및 생활용수 등 하수 사용량이...</td>\n",
              "      <td>0</td>\n",
              "    </tr>\n",
              "    <tr>\n",
              "      <th>2</th>\n",
              "      <td>가평군, 물놀이 취약시설 안전점검 강화</td>\n",
              "      <td>▲ 물놀이취약시설현장점검나서\\n\\n\\n\\n김성기 가평군수가 폭염으로 증가하는 물놀이...</td>\n",
              "      <td>0</td>\n",
              "    </tr>\n",
              "    <tr>\n",
              "      <th>3</th>\n",
              "      <td>용인송담대, 슈퍼쿨비즈 시범운영한다</td>\n",
              "      <td>▲ 대학교에서도 시행되는 용인송담대 '슈퍼쿨비즈(Supe Cool Biz)' 시범운...</td>\n",
              "      <td>0</td>\n",
              "    </tr>\n",
              "    <tr>\n",
              "      <th>4</th>\n",
              "      <td>이천소방서, 한국119소년단 '불나면 대피먼저'캠페인 실시</td>\n",
              "      <td>▲한국119소년단 ‘불나면 대피먼저’캠페인\\n\\n\\n\\n이천소방서(서장 고문수)는 ...</td>\n",
              "      <td>0</td>\n",
              "    </tr>\n",
              "  </tbody>\n",
              "</table>\n",
              "</div>"
            ],
            "text/plain": [
              "                              title  ... damage\n",
              "0   동국대일산병원, 무더위 속 '얼음생수 나눔 캠페인' 펼쳐  ...      0\n",
              "1         폭염에 따른 하수처리장 및 공공하수도 안전점검  ...      0\n",
              "2             가평군, 물놀이 취약시설 안전점검 강화  ...      0\n",
              "3               용인송담대, 슈퍼쿨비즈 시범운영한다  ...      0\n",
              "4  이천소방서, 한국119소년단 '불나면 대피먼저'캠페인 실시  ...      0\n",
              "\n",
              "[5 rows x 3 columns]"
            ]
          },
          "metadata": {
            "tags": []
          },
          "execution_count": 11
        }
      ]
    },
    {
      "cell_type": "code",
      "metadata": {
        "colab": {
          "base_uri": "https://localhost:8080/",
          "height": 316
        },
        "id": "mzGtv7Si1id6",
        "outputId": "3e27d354-bb95-40ef-b3b4-50517c4405f4"
      },
      "source": [
        "sns.histplot(data.damage)\r\n",
        "print('피해 기사 수',(data.damage==1).sum())\r\n",
        "print('비피해 기사 수',(data.damage==0).sum())"
      ],
      "execution_count": 15,
      "outputs": [
        {
          "output_type": "stream",
          "text": [
            "피해 기사 수 1301\n",
            "비피해 기사 수 6747\n"
          ],
          "name": "stdout"
        },
        {
          "output_type": "display_data",
          "data": {
            "image/png": "[encoded data removed]",
            "text/plain": [
              "<Figure size 432x288 with 1 Axes>"
            ]
          },
          "metadata": {
            "tags": [],
            "needs_background": "light"
          }
        }
      ]
    },
    {
      "cell_type": "code",
      "metadata": {
        "id": "pd8DPbjDh1Av"
      },
      "source": [
        "def is_not_in(sentence):\r\n",
        "    for i in ['사진','기자','배포금지','무단배포','@','뉴스룸','닷컴','저작권']:\r\n",
        "        if i in sentence:\r\n",
        "            return False\r\n",
        "    return True"
      ],
      "execution_count": 35,
      "outputs": []
    },
    {
      "cell_type": "code",
      "metadata": {
        "id": "aHvWKl5r7dhY"
      },
      "source": [
        "# cleansing 작업\r\n",
        "def cleansing(text):\r\n",
        "    # \\n+은 ' '로 치환\r\n",
        "    text=re.sub('\\n+',' ',text)\r\n",
        "    # 괄호 제거\r\n",
        "    text=re.sub('\\(.+?\\)|\\[.+?\\]|\\<.+?\\>','',text)\r\n",
        "    # 한글, ., ,숫자가 아닌 경우 빈칸으로 치환\r\n",
        "    text=re.sub('[^ ㄱ-ㅣ가-힣,.0-9]+','',text)\r\n",
        "    # 문장 분리기를 활용해서 불용어가 있는 경우 제거\r\n",
        "    result=[]\r\n",
        "    for sentence in kss.split_sentences(text):\r\n",
        "        if is_not_in(sentence):\r\n",
        "            result.append(sentence)\r\n",
        "    return ' '.join(result)"
      ],
      "execution_count": 36,
      "outputs": []
    },
    {
      "cell_type": "code",
      "metadata": {
        "id": "5PV66pAF7qNx"
      },
      "source": [
        "data['Title']=data['title'].apply(lambda i : cleansing(i))\r\n",
        "data['Title']=data['maintext'].apply(lambda i : cleansing(i))\r\n",
        "data['Total']=data['Title']+'. '+data['Title']\r\n",
        "# BERT tokenizer로 tokenizing\r\n",
        "data['tokenized']=data['Total'].apply(lambda i : tokenizer.encode(i))\r\n",
        "# 길이\r\n",
        "data['len']=data['tokenized'].apply(lambda i : len(i))"
      ],
      "execution_count": 37,
      "outputs": []
    },
    {
      "cell_type": "code",
      "metadata": {
        "colab": {
          "base_uri": "https://localhost:8080/",
          "height": 332
        },
        "id": "lEpa1Od99zT5",
        "outputId": "c07284f8-c508-4370-abcf-feb46cddd1a3"
      },
      "source": [
        "# Total length\r\n",
        "sns.histplot(data['len'])\r\n",
        "print('mean',data['len'].mean())\r\n",
        "print('max',data['len'].max())\r\n",
        "print('75%, 95%, 99%',np.percentile(data['len'].values,[75,95,99]))"
      ],
      "execution_count": 48,
      "outputs": [
        {
          "output_type": "stream",
          "text": [
            "mean 981.9247017892644\n",
            "max 18271\n",
            "75%, 95%, 99% [1237.  2319.5 4167.6]\n"
          ],
          "name": "stdout"
        },
        {
          "output_type": "display_data",
          "data": {
            "image/png": "[encoded data removed]",
            "text/plain": [
              "<Figure size 432x288 with 1 Axes>"
            ]
          },
          "metadata": {
            "tags": [],
            "needs_background": "light"
          }
        }
      ]
    },
    {
      "cell_type": "code",
      "metadata": {
        "colab": {
          "base_uri": "https://localhost:8080/",
          "height": 348
        },
        "id": "GU9ACwgd-Qmy",
        "outputId": "586f9b0c-2160-44a0-c6b6-856f8c76dd24"
      },
      "source": [
        "# 재해 인 경우\r\n",
        "print('mean',data.loc[data['damage']==1,'len'].mean())\r\n",
        "print('max',data.loc[data['damage']==1,'len'].max())\r\n",
        "print('75%, 95%, 99%',np.percentile(data.loc[data['damage']==1,'len'].values,[75,95,99]))\r\n",
        "plt.title('disaster')\r\n",
        "sns.histplot(data.loc[data['damage']==1,'len'])\r\n",
        "plt.show()"
      ],
      "execution_count": 49,
      "outputs": [
        {
          "output_type": "stream",
          "text": [
            "mean 983.2905457340507\n",
            "max 7037\n",
            "75%, 95%, 99% [1267. 2055. 3341.]\n"
          ],
          "name": "stdout"
        },
        {
          "output_type": "display_data",
          "data": {
            "image/png": "[encoded data removed]",
            "text/plain": [
              "<Figure size 432x288 with 1 Axes>"
            ]
          },
          "metadata": {
            "tags": [],
            "needs_background": "light"
          }
        }
      ]
    },
    {
      "cell_type": "code",
      "metadata": {
        "colab": {
          "base_uri": "https://localhost:8080/",
          "height": 348
        },
        "id": "uZAvO3Dg-orA",
        "outputId": "4e18a790-43c1-4925-ab61-f5cae837fa5c"
      },
      "source": [
        "# 비재해 인 경우\r\n",
        "print('mean',data.loc[data['damage']==0,'len'].mean())\r\n",
        "print('max',data.loc[data['damage']==0,'len'].max())\r\n",
        "print('75%, 95%, 99%',np.percentile(data.loc[data['damage']==0,'len'].values,[75,95,99]))\r\n",
        "plt.title('normal')\r\n",
        "sns.histplot(data.loc[data['damage']==0,'len'])\r\n",
        "plt.show()"
      ],
      "execution_count": 50,
      "outputs": [
        {
          "output_type": "stream",
          "text": [
            "mean 981.661330961909\n",
            "max 18271\n",
            "75%, 95%, 99% [1229.   2395.   4480.92]\n"
          ],
          "name": "stdout"
        },
        {
          "output_type": "display_data",
          "data": {
            "image/png": "[encoded data removed]",
            "text/plain": [
              "<Figure size 432x288 with 1 Axes>"
            ]
          },
          "metadata": {
            "tags": [],
            "needs_background": "light"
          }
        }
      ]
    },
    {
      "cell_type": "code",
      "metadata": {
        "colab": {
          "base_uri": "https://localhost:8080/"
        },
        "id": "rxSd7OIXn0FX",
        "outputId": "7577dc2b-96f5-4fc6-98f2-57e9c0baa418"
      },
      "source": [
        "print('0.5%',np.percentile(data['len'].values,[0.5])) # 포토로만 이뤄진 기사, 불용어 제거시 아무것도 없는 기사들은 제거하기로\r\n",
        "# 이 기준은 길이가 10 이하인 경우로 한정함"
      ],
      "execution_count": 80,
      "outputs": [
        {
          "output_type": "stream",
          "text": [
            "0.5% [29.94]\n"
          ],
          "name": "stdout"
        }
      ]
    },
    {
      "cell_type": "code",
      "metadata": {
        "id": "k0_GyT14oLLd"
      },
      "source": [
        "data = data.loc[data['len']>10,:]"
      ],
      "execution_count": 84,
      "outputs": []
    },
    {
      "cell_type": "markdown",
      "metadata": {
        "id": "1YvYseRb_NzA"
      },
      "source": [
        "## EDA 한 줄 summary  \r\n",
        "- 비재해인 경우가 더 긴 경향을 보임(평균은 비슷)  \r\n",
        "- 99% 수준이 4480(비재해),3341(재해)      \r\n",
        "- 길이의 요소가 재해/비재해에 영향을 줄 수 있음.  \r\n",
        "- KoBERT의 경우 max length가 512이므로, 길이 feature도 따로 넣어 줄 예정  "
      ]
    },
    {
      "cell_type": "markdown",
      "metadata": {
        "id": "KXm8JNkmSm10"
      },
      "source": [
        "# 문장별 전처리 \n",
        "각 문장의 앞마다 [CLS]  \n",
        "각 문장의 끝에는 [SEP]  \n",
        "문장의 길이 512로 자르기  "
      ]
    },
    {
      "cell_type": "code",
      "metadata": {
        "id": "IfwYKBD2yY9-"
      },
      "source": [
        "import torch\r\n",
        "# max len으로 자르고, 모자란 부분은 패딩으로 채움\r\n",
        "data['ids'] = data['Total'].apply(lambda i : tokenizer.encode(i,add_special_tokens=True,truncation=True,padding='max_length',max_length=512))\r\n",
        "# attention mask - mask될 부분은 0, 아닌 부분은 1\r\n",
        "data['mask']=(torch.tensor(data['ids'].tolist()).eq(1)==0).long().tolist()"
      ],
      "execution_count": 87,
      "outputs": []
    },
    {
      "cell_type": "code",
      "metadata": {
        "id": "6DTN3ev-A2fI"
      },
      "source": [
        "# Train,Val,Test split\r\n",
        "from sklearn.model_selection import train_test_split\r\n",
        "train_data,test_data = train_test_split(data.loc[:,['ids','mask','len','damage','Total']],test_size =1000)\r\n",
        "train_data,val_data = train_test_split(train_data.loc[:,['ids','mask','len','damage','Total']],test_size =1000)"
      ],
      "execution_count": 88,
      "outputs": []
    },
    {
      "cell_type": "code",
      "metadata": {
        "id": "aSVmWQDQA5cw"
      },
      "source": [
        "# 저장\r\n",
        "train_data.to_pickle('./data/train_data')\r\n",
        "val_data.to_pickle('./data/val_data')\r\n",
        "test_data.to_pickle('./data/test_data')"
      ],
      "execution_count": 89,
      "outputs": []
    }
  ]
}
