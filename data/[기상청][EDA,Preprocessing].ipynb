{
  "nbformat": 4,
  "nbformat_minor": 0,
  "metadata": {
    "colab": {
      "name": "[기상청][EDA,Preprocessing].ipynb",
      "provenance": [],
      "collapsed_sections": [],
      "machine_shape": "hm"
    },
    "kernelspec": {
      "name": "python3",
      "display_name": "Python 3"
    },
    "widgets": {
      "application/vnd.jupyter.widget-state+json": {
        "c673ac5f7978473cb3f3db160a890631": {
          "model_module": "@jupyter-widgets/controls",
          "model_name": "HBoxModel",
          "state": {
            "_view_name": "HBoxView",
            "_dom_classes": [],
            "_model_name": "HBoxModel",
            "_view_module": "@jupyter-widgets/controls",
            "_model_module_version": "1.5.0",
            "_view_count": null,
            "_view_module_version": "1.5.0",
            "box_style": "",
            "layout": "IPY_MODEL_2247581c5a554fe48efcdedf8687f127",
            "_model_module": "@jupyter-widgets/controls",
            "children": [
              "IPY_MODEL_8320ec85e4ef4345a4cbc3ae70c0fe8a",
              "IPY_MODEL_c831a55e7c35453d995ac65d40db549b"
            ]
          }
        },
        "2247581c5a554fe48efcdedf8687f127": {
          "model_module": "@jupyter-widgets/base",
          "model_name": "LayoutModel",
          "state": {
            "_view_name": "LayoutView",
            "grid_template_rows": null,
            "right": null,
            "justify_content": null,
            "_view_module": "@jupyter-widgets/base",
            "overflow": null,
            "_model_module_version": "1.2.0",
            "_view_count": null,
            "flex_flow": null,
            "width": null,
            "min_width": null,
            "border": null,
            "align_items": null,
            "bottom": null,
            "_model_module": "@jupyter-widgets/base",
            "top": null,
            "grid_column": null,
            "overflow_y": null,
            "overflow_x": null,
            "grid_auto_flow": null,
            "grid_area": null,
            "grid_template_columns": null,
            "flex": null,
            "_model_name": "LayoutModel",
            "justify_items": null,
            "grid_row": null,
            "max_height": null,
            "align_content": null,
            "visibility": null,
            "align_self": null,
            "height": null,
            "min_height": null,
            "padding": null,
            "grid_auto_rows": null,
            "grid_gap": null,
            "max_width": null,
            "order": null,
            "_view_module_version": "1.2.0",
            "grid_template_areas": null,
            "object_position": null,
            "object_fit": null,
            "grid_auto_columns": null,
            "margin": null,
            "display": null,
            "left": null
          }
        },
        "8320ec85e4ef4345a4cbc3ae70c0fe8a": {
          "model_module": "@jupyter-widgets/controls",
          "model_name": "FloatProgressModel",
          "state": {
            "_view_name": "ProgressView",
            "style": "IPY_MODEL_ee5777b2d6584c8cac5adb9d8295b48c",
            "_dom_classes": [],
            "description": "Downloading: 100%",
            "_model_name": "FloatProgressModel",
            "bar_style": "success",
            "max": 371391,
            "_view_module": "@jupyter-widgets/controls",
            "_model_module_version": "1.5.0",
            "value": 371391,
            "_view_count": null,
            "_view_module_version": "1.5.0",
            "orientation": "horizontal",
            "min": 0,
            "description_tooltip": null,
            "_model_module": "@jupyter-widgets/controls",
            "layout": "IPY_MODEL_3daa5bad35824c1c8a547d556349c631"
          }
        },
        "c831a55e7c35453d995ac65d40db549b": {
          "model_module": "@jupyter-widgets/controls",
          "model_name": "HTMLModel",
          "state": {
            "_view_name": "HTMLView",
            "style": "IPY_MODEL_8f38246d31434e2d939b2a1512f73e81",
            "_dom_classes": [],
            "description": "",
            "_model_name": "HTMLModel",
            "placeholder": "​",
            "_view_module": "@jupyter-widgets/controls",
            "_model_module_version": "1.5.0",
            "value": " 371k/371k [00:09&lt;00:00, 40.8kB/s]",
            "_view_count": null,
            "_view_module_version": "1.5.0",
            "description_tooltip": null,
            "_model_module": "@jupyter-widgets/controls",
            "layout": "IPY_MODEL_28159fcc98c149f89be7731ee9981b3d"
          }
        },
        "ee5777b2d6584c8cac5adb9d8295b48c": {
          "model_module": "@jupyter-widgets/controls",
          "model_name": "ProgressStyleModel",
          "state": {
            "_view_name": "StyleView",
            "_model_name": "ProgressStyleModel",
            "description_width": "initial",
            "_view_module": "@jupyter-widgets/base",
            "_model_module_version": "1.5.0",
            "_view_count": null,
            "_view_module_version": "1.2.0",
            "bar_color": null,
            "_model_module": "@jupyter-widgets/controls"
          }
        },
        "3daa5bad35824c1c8a547d556349c631": {
          "model_module": "@jupyter-widgets/base",
          "model_name": "LayoutModel",
          "state": {
            "_view_name": "LayoutView",
            "grid_template_rows": null,
            "right": null,
            "justify_content": null,
            "_view_module": "@jupyter-widgets/base",
            "overflow": null,
            "_model_module_version": "1.2.0",
            "_view_count": null,
            "flex_flow": null,
            "width": null,
            "min_width": null,
            "border": null,
            "align_items": null,
            "bottom": null,
            "_model_module": "@jupyter-widgets/base",
            "top": null,
            "grid_column": null,
            "overflow_y": null,
            "overflow_x": null,
            "grid_auto_flow": null,
            "grid_area": null,
            "grid_template_columns": null,
            "flex": null,
            "_model_name": "LayoutModel",
            "justify_items": null,
            "grid_row": null,
            "max_height": null,
            "align_content": null,
            "visibility": null,
            "align_self": null,
            "height": null,
            "min_height": null,
            "padding": null,
            "grid_auto_rows": null,
            "grid_gap": null,
            "max_width": null,
            "order": null,
            "_view_module_version": "1.2.0",
            "grid_template_areas": null,
            "object_position": null,
            "object_fit": null,
            "grid_auto_columns": null,
            "margin": null,
            "display": null,
            "left": null
          }
        },
        "8f38246d31434e2d939b2a1512f73e81": {
          "model_module": "@jupyter-widgets/controls",
          "model_name": "DescriptionStyleModel",
          "state": {
            "_view_name": "StyleView",
            "_model_name": "DescriptionStyleModel",
            "description_width": "",
            "_view_module": "@jupyter-widgets/base",
            "_model_module_version": "1.5.0",
            "_view_count": null,
            "_view_module_version": "1.2.0",
            "_model_module": "@jupyter-widgets/controls"
          }
        },
        "28159fcc98c149f89be7731ee9981b3d": {
          "model_module": "@jupyter-widgets/base",
          "model_name": "LayoutModel",
          "state": {
            "_view_name": "LayoutView",
            "grid_template_rows": null,
            "right": null,
            "justify_content": null,
            "_view_module": "@jupyter-widgets/base",
            "overflow": null,
            "_model_module_version": "1.2.0",
            "_view_count": null,
            "flex_flow": null,
            "width": null,
            "min_width": null,
            "border": null,
            "align_items": null,
            "bottom": null,
            "_model_module": "@jupyter-widgets/base",
            "top": null,
            "grid_column": null,
            "overflow_y": null,
            "overflow_x": null,
            "grid_auto_flow": null,
            "grid_area": null,
            "grid_template_columns": null,
            "flex": null,
            "_model_name": "LayoutModel",
            "justify_items": null,
            "grid_row": null,
            "max_height": null,
            "align_content": null,
            "visibility": null,
            "align_self": null,
            "height": null,
            "min_height": null,
            "padding": null,
            "grid_auto_rows": null,
            "grid_gap": null,
            "max_width": null,
            "order": null,
            "_view_module_version": "1.2.0",
            "grid_template_areas": null,
            "object_position": null,
            "object_fit": null,
            "grid_auto_columns": null,
            "margin": null,
            "display": null,
            "left": null
          }
        },
        "07ebfa55caf240a3a70af4eeea681b7e": {
          "model_module": "@jupyter-widgets/controls",
          "model_name": "HBoxModel",
          "state": {
            "_view_name": "HBoxView",
            "_dom_classes": [],
            "_model_name": "HBoxModel",
            "_view_module": "@jupyter-widgets/controls",
            "_model_module_version": "1.5.0",
            "_view_count": null,
            "_view_module_version": "1.5.0",
            "box_style": "",
            "layout": "IPY_MODEL_d7ddf4f2dd0b47019b46e79b9308b2fe",
            "_model_module": "@jupyter-widgets/controls",
            "children": [
              "IPY_MODEL_cfc59a4f89854c58b37ba8c3b0e6fa68",
              "IPY_MODEL_37c131939b234c7d88563e4abe4a643b"
            ]
          }
        },
        "d7ddf4f2dd0b47019b46e79b9308b2fe": {
          "model_module": "@jupyter-widgets/base",
          "model_name": "LayoutModel",
          "state": {
            "_view_name": "LayoutView",
            "grid_template_rows": null,
            "right": null,
            "justify_content": null,
            "_view_module": "@jupyter-widgets/base",
            "overflow": null,
            "_model_module_version": "1.2.0",
            "_view_count": null,
            "flex_flow": null,
            "width": null,
            "min_width": null,
            "border": null,
            "align_items": null,
            "bottom": null,
            "_model_module": "@jupyter-widgets/base",
            "top": null,
            "grid_column": null,
            "overflow_y": null,
            "overflow_x": null,
            "grid_auto_flow": null,
            "grid_area": null,
            "grid_template_columns": null,
            "flex": null,
            "_model_name": "LayoutModel",
            "justify_items": null,
            "grid_row": null,
            "max_height": null,
            "align_content": null,
            "visibility": null,
            "align_self": null,
            "height": null,
            "min_height": null,
            "padding": null,
            "grid_auto_rows": null,
            "grid_gap": null,
            "max_width": null,
            "order": null,
            "_view_module_version": "1.2.0",
            "grid_template_areas": null,
            "object_position": null,
            "object_fit": null,
            "grid_auto_columns": null,
            "margin": null,
            "display": null,
            "left": null
          }
        },
        "cfc59a4f89854c58b37ba8c3b0e6fa68": {
          "model_module": "@jupyter-widgets/controls",
          "model_name": "FloatProgressModel",
          "state": {
            "_view_name": "ProgressView",
            "style": "IPY_MODEL_d0677ea53300449da980cc46da057bcf",
            "_dom_classes": [],
            "description": "Downloading: 100%",
            "_model_name": "FloatProgressModel",
            "bar_style": "success",
            "max": 77779,
            "_view_module": "@jupyter-widgets/controls",
            "_model_module_version": "1.5.0",
            "value": 77779,
            "_view_count": null,
            "_view_module_version": "1.5.0",
            "orientation": "horizontal",
            "min": 0,
            "description_tooltip": null,
            "_model_module": "@jupyter-widgets/controls",
            "layout": "IPY_MODEL_e93555f796974f6baf68ed5d87a764d4"
          }
        },
        "37c131939b234c7d88563e4abe4a643b": {
          "model_module": "@jupyter-widgets/controls",
          "model_name": "HTMLModel",
          "state": {
            "_view_name": "HTMLView",
            "style": "IPY_MODEL_2874a1fcb4074f9495a02c9e287d693f",
            "_dom_classes": [],
            "description": "",
            "_model_name": "HTMLModel",
            "placeholder": "​",
            "_view_module": "@jupyter-widgets/controls",
            "_model_module_version": "1.5.0",
            "value": " 77.8k/77.8k [00:00&lt;00:00, 95.5kB/s]",
            "_view_count": null,
            "_view_module_version": "1.5.0",
            "description_tooltip": null,
            "_model_module": "@jupyter-widgets/controls",
            "layout": "IPY_MODEL_087542175af14d789784df30e2435e19"
          }
        },
        "d0677ea53300449da980cc46da057bcf": {
          "model_module": "@jupyter-widgets/controls",
          "model_name": "ProgressStyleModel",
          "state": {
            "_view_name": "StyleView",
            "_model_name": "ProgressStyleModel",
            "description_width": "initial",
            "_view_module": "@jupyter-widgets/base",
            "_model_module_version": "1.5.0",
            "_view_count": null,
            "_view_module_version": "1.2.0",
            "bar_color": null,
            "_model_module": "@jupyter-widgets/controls"
          }
        },
        "e93555f796974f6baf68ed5d87a764d4": {
          "model_module": "@jupyter-widgets/base",
          "model_name": "LayoutModel",
          "state": {
            "_view_name": "LayoutView",
            "grid_template_rows": null,
            "right": null,
            "justify_content": null,
            "_view_module": "@jupyter-widgets/base",
            "overflow": null,
            "_model_module_version": "1.2.0",
            "_view_count": null,
            "flex_flow": null,
            "width": null,
            "min_width": null,
            "border": null,
            "align_items": null,
            "bottom": null,
            "_model_module": "@jupyter-widgets/base",
            "top": null,
            "grid_column": null,
            "overflow_y": null,
            "overflow_x": null,
            "grid_auto_flow": null,
            "grid_area": null,
            "grid_template_columns": null,
            "flex": null,
            "_model_name": "LayoutModel",
            "justify_items": null,
            "grid_row": null,
            "max_height": null,
            "align_content": null,
            "visibility": null,
            "align_self": null,
            "height": null,
            "min_height": null,
            "padding": null,
            "grid_auto_rows": null,
            "grid_gap": null,
            "max_width": null,
            "order": null,
            "_view_module_version": "1.2.0",
            "grid_template_areas": null,
            "object_position": null,
            "object_fit": null,
            "grid_auto_columns": null,
            "margin": null,
            "display": null,
            "left": null
          }
        },
        "2874a1fcb4074f9495a02c9e287d693f": {
          "model_module": "@jupyter-widgets/controls",
          "model_name": "DescriptionStyleModel",
          "state": {
            "_view_name": "StyleView",
            "_model_name": "DescriptionStyleModel",
            "description_width": "",
            "_view_module": "@jupyter-widgets/base",
            "_model_module_version": "1.5.0",
            "_view_count": null,
            "_view_module_version": "1.2.0",
            "_model_module": "@jupyter-widgets/controls"
          }
        },
        "087542175af14d789784df30e2435e19": {
          "model_module": "@jupyter-widgets/base",
          "model_name": "LayoutModel",
          "state": {
            "_view_name": "LayoutView",
            "grid_template_rows": null,
            "right": null,
            "justify_content": null,
            "_view_module": "@jupyter-widgets/base",
            "overflow": null,
            "_model_module_version": "1.2.0",
            "_view_count": null,
            "flex_flow": null,
            "width": null,
            "min_width": null,
            "border": null,
            "align_items": null,
            "bottom": null,
            "_model_module": "@jupyter-widgets/base",
            "top": null,
            "grid_column": null,
            "overflow_y": null,
            "overflow_x": null,
            "grid_auto_flow": null,
            "grid_area": null,
            "grid_template_columns": null,
            "flex": null,
            "_model_name": "LayoutModel",
            "justify_items": null,
            "grid_row": null,
            "max_height": null,
            "align_content": null,
            "visibility": null,
            "align_self": null,
            "height": null,
            "min_height": null,
            "padding": null,
            "grid_auto_rows": null,
            "grid_gap": null,
            "max_width": null,
            "order": null,
            "_view_module_version": "1.2.0",
            "grid_template_areas": null,
            "object_position": null,
            "object_fit": null,
            "grid_auto_columns": null,
            "margin": null,
            "display": null,
            "left": null
          }
        },
        "175dc142cd6a47e2af6d7694aec9a332": {
          "model_module": "@jupyter-widgets/controls",
          "model_name": "HBoxModel",
          "state": {
            "_view_name": "HBoxView",
            "_dom_classes": [],
            "_model_name": "HBoxModel",
            "_view_module": "@jupyter-widgets/controls",
            "_model_module_version": "1.5.0",
            "_view_count": null,
            "_view_module_version": "1.5.0",
            "box_style": "",
            "layout": "IPY_MODEL_881fbdeab5104d958194cde0d67eecba",
            "_model_module": "@jupyter-widgets/controls",
            "children": [
              "IPY_MODEL_ecf566495c5c4ec0a2d86dcd008c1ff9",
              "IPY_MODEL_d1cd43db4c0d4fb286aeed9a1ac12ac9"
            ]
          }
        },
        "881fbdeab5104d958194cde0d67eecba": {
          "model_module": "@jupyter-widgets/base",
          "model_name": "LayoutModel",
          "state": {
            "_view_name": "LayoutView",
            "grid_template_rows": null,
            "right": null,
            "justify_content": null,
            "_view_module": "@jupyter-widgets/base",
            "overflow": null,
            "_model_module_version": "1.2.0",
            "_view_count": null,
            "flex_flow": null,
            "width": null,
            "min_width": null,
            "border": null,
            "align_items": null,
            "bottom": null,
            "_model_module": "@jupyter-widgets/base",
            "top": null,
            "grid_column": null,
            "overflow_y": null,
            "overflow_x": null,
            "grid_auto_flow": null,
            "grid_area": null,
            "grid_template_columns": null,
            "flex": null,
            "_model_name": "LayoutModel",
            "justify_items": null,
            "grid_row": null,
            "max_height": null,
            "align_content": null,
            "visibility": null,
            "align_self": null,
            "height": null,
            "min_height": null,
            "padding": null,
            "grid_auto_rows": null,
            "grid_gap": null,
            "max_width": null,
            "order": null,
            "_view_module_version": "1.2.0",
            "grid_template_areas": null,
            "object_position": null,
            "object_fit": null,
            "grid_auto_columns": null,
            "margin": null,
            "display": null,
            "left": null
          }
        },
        "ecf566495c5c4ec0a2d86dcd008c1ff9": {
          "model_module": "@jupyter-widgets/controls",
          "model_name": "FloatProgressModel",
          "state": {
            "_view_name": "ProgressView",
            "style": "IPY_MODEL_9c5ee57c5d0b435193566dcbce0c7bd5",
            "_dom_classes": [],
            "description": "Downloading: 100%",
            "_model_name": "FloatProgressModel",
            "bar_style": "success",
            "max": 426,
            "_view_module": "@jupyter-widgets/controls",
            "_model_module_version": "1.5.0",
            "value": 426,
            "_view_count": null,
            "_view_module_version": "1.5.0",
            "orientation": "horizontal",
            "min": 0,
            "description_tooltip": null,
            "_model_module": "@jupyter-widgets/controls",
            "layout": "IPY_MODEL_88b6b231d34b4d9bb79175d1cd6c5101"
          }
        },
        "d1cd43db4c0d4fb286aeed9a1ac12ac9": {
          "model_module": "@jupyter-widgets/controls",
          "model_name": "HTMLModel",
          "state": {
            "_view_name": "HTMLView",
            "style": "IPY_MODEL_47c08ba1cbfe43ea8e7907e9b22f2557",
            "_dom_classes": [],
            "description": "",
            "_model_name": "HTMLModel",
            "placeholder": "​",
            "_view_module": "@jupyter-widgets/controls",
            "_model_module_version": "1.5.0",
            "value": " 426/426 [00:00&lt;00:00, 13.6kB/s]",
            "_view_count": null,
            "_view_module_version": "1.5.0",
            "description_tooltip": null,
            "_model_module": "@jupyter-widgets/controls",
            "layout": "IPY_MODEL_e885a946f14e4cb9a1884c081d2b2337"
          }
        },
        "9c5ee57c5d0b435193566dcbce0c7bd5": {
          "model_module": "@jupyter-widgets/controls",
          "model_name": "ProgressStyleModel",
          "state": {
            "_view_name": "StyleView",
            "_model_name": "ProgressStyleModel",
            "description_width": "initial",
            "_view_module": "@jupyter-widgets/base",
            "_model_module_version": "1.5.0",
            "_view_count": null,
            "_view_module_version": "1.2.0",
            "bar_color": null,
            "_model_module": "@jupyter-widgets/controls"
          }
        },
        "88b6b231d34b4d9bb79175d1cd6c5101": {
          "model_module": "@jupyter-widgets/base",
          "model_name": "LayoutModel",
          "state": {
            "_view_name": "LayoutView",
            "grid_template_rows": null,
            "right": null,
            "justify_content": null,
            "_view_module": "@jupyter-widgets/base",
            "overflow": null,
            "_model_module_version": "1.2.0",
            "_view_count": null,
            "flex_flow": null,
            "width": null,
            "min_width": null,
            "border": null,
            "align_items": null,
            "bottom": null,
            "_model_module": "@jupyter-widgets/base",
            "top": null,
            "grid_column": null,
            "overflow_y": null,
            "overflow_x": null,
            "grid_auto_flow": null,
            "grid_area": null,
            "grid_template_columns": null,
            "flex": null,
            "_model_name": "LayoutModel",
            "justify_items": null,
            "grid_row": null,
            "max_height": null,
            "align_content": null,
            "visibility": null,
            "align_self": null,
            "height": null,
            "min_height": null,
            "padding": null,
            "grid_auto_rows": null,
            "grid_gap": null,
            "max_width": null,
            "order": null,
            "_view_module_version": "1.2.0",
            "grid_template_areas": null,
            "object_position": null,
            "object_fit": null,
            "grid_auto_columns": null,
            "margin": null,
            "display": null,
            "left": null
          }
        },
        "47c08ba1cbfe43ea8e7907e9b22f2557": {
          "model_module": "@jupyter-widgets/controls",
          "model_name": "DescriptionStyleModel",
          "state": {
            "_view_name": "StyleView",
            "_model_name": "DescriptionStyleModel",
            "description_width": "",
            "_view_module": "@jupyter-widgets/base",
            "_model_module_version": "1.5.0",
            "_view_count": null,
            "_view_module_version": "1.2.0",
            "_model_module": "@jupyter-widgets/controls"
          }
        },
        "e885a946f14e4cb9a1884c081d2b2337": {
          "model_module": "@jupyter-widgets/base",
          "model_name": "LayoutModel",
          "state": {
            "_view_name": "LayoutView",
            "grid_template_rows": null,
            "right": null,
            "justify_content": null,
            "_view_module": "@jupyter-widgets/base",
            "overflow": null,
            "_model_module_version": "1.2.0",
            "_view_count": null,
            "flex_flow": null,
            "width": null,
            "min_width": null,
            "border": null,
            "align_items": null,
            "bottom": null,
            "_model_module": "@jupyter-widgets/base",
            "top": null,
            "grid_column": null,
            "overflow_y": null,
            "overflow_x": null,
            "grid_auto_flow": null,
            "grid_area": null,
            "grid_template_columns": null,
            "flex": null,
            "_model_name": "LayoutModel",
            "justify_items": null,
            "grid_row": null,
            "max_height": null,
            "align_content": null,
            "visibility": null,
            "align_self": null,
            "height": null,
            "min_height": null,
            "padding": null,
            "grid_auto_rows": null,
            "grid_gap": null,
            "max_width": null,
            "order": null,
            "_view_module_version": "1.2.0",
            "grid_template_areas": null,
            "object_position": null,
            "object_fit": null,
            "grid_auto_columns": null,
            "margin": null,
            "display": null,
            "left": null
          }
        },
        "97d6c301d0a94544991196b932f6a978": {
          "model_module": "@jupyter-widgets/controls",
          "model_name": "HBoxModel",
          "state": {
            "_view_name": "HBoxView",
            "_dom_classes": [],
            "_model_name": "HBoxModel",
            "_view_module": "@jupyter-widgets/controls",
            "_model_module_version": "1.5.0",
            "_view_count": null,
            "_view_module_version": "1.5.0",
            "box_style": "",
            "layout": "IPY_MODEL_e79311e7a40f43e88f068b3f3f733e81",
            "_model_module": "@jupyter-widgets/controls",
            "children": [
              "IPY_MODEL_b8aeae8abfac40469edb286d3f753341",
              "IPY_MODEL_2b5f4cb8b1c5484589df8a3054944bdc"
            ]
          }
        },
        "e79311e7a40f43e88f068b3f3f733e81": {
          "model_module": "@jupyter-widgets/base",
          "model_name": "LayoutModel",
          "state": {
            "_view_name": "LayoutView",
            "grid_template_rows": null,
            "right": null,
            "justify_content": null,
            "_view_module": "@jupyter-widgets/base",
            "overflow": null,
            "_model_module_version": "1.2.0",
            "_view_count": null,
            "flex_flow": null,
            "width": null,
            "min_width": null,
            "border": null,
            "align_items": null,
            "bottom": null,
            "_model_module": "@jupyter-widgets/base",
            "top": null,
            "grid_column": null,
            "overflow_y": null,
            "overflow_x": null,
            "grid_auto_flow": null,
            "grid_area": null,
            "grid_template_columns": null,
            "flex": null,
            "_model_name": "LayoutModel",
            "justify_items": null,
            "grid_row": null,
            "max_height": null,
            "align_content": null,
            "visibility": null,
            "align_self": null,
            "height": null,
            "min_height": null,
            "padding": null,
            "grid_auto_rows": null,
            "grid_gap": null,
            "max_width": null,
            "order": null,
            "_view_module_version": "1.2.0",
            "grid_template_areas": null,
            "object_position": null,
            "object_fit": null,
            "grid_auto_columns": null,
            "margin": null,
            "display": null,
            "left": null
          }
        },
        "b8aeae8abfac40469edb286d3f753341": {
          "model_module": "@jupyter-widgets/controls",
          "model_name": "FloatProgressModel",
          "state": {
            "_view_name": "ProgressView",
            "style": "IPY_MODEL_89463787dbe748d18062265ea463634c",
            "_dom_classes": [],
            "description": "Downloading: 100%",
            "_model_name": "FloatProgressModel",
            "bar_style": "success",
            "max": 368792146,
            "_view_module": "@jupyter-widgets/controls",
            "_model_module_version": "1.5.0",
            "value": 368792146,
            "_view_count": null,
            "_view_module_version": "1.5.0",
            "orientation": "horizontal",
            "min": 0,
            "description_tooltip": null,
            "_model_module": "@jupyter-widgets/controls",
            "layout": "IPY_MODEL_8fdb3528ec7a4b7582976811fb39f403"
          }
        },
        "2b5f4cb8b1c5484589df8a3054944bdc": {
          "model_module": "@jupyter-widgets/controls",
          "model_name": "HTMLModel",
          "state": {
            "_view_name": "HTMLView",
            "style": "IPY_MODEL_e944b78271314bbeb3cdc7734ba3e747",
            "_dom_classes": [],
            "description": "",
            "_model_name": "HTMLModel",
            "placeholder": "​",
            "_view_module": "@jupyter-widgets/controls",
            "_model_module_version": "1.5.0",
            "value": " 369M/369M [00:06&lt;00:00, 59.7MB/s]",
            "_view_count": null,
            "_view_module_version": "1.5.0",
            "description_tooltip": null,
            "_model_module": "@jupyter-widgets/controls",
            "layout": "IPY_MODEL_fdf78649aacf44cbb4b088aed1b2a430"
          }
        },
        "89463787dbe748d18062265ea463634c": {
          "model_module": "@jupyter-widgets/controls",
          "model_name": "ProgressStyleModel",
          "state": {
            "_view_name": "StyleView",
            "_model_name": "ProgressStyleModel",
            "description_width": "initial",
            "_view_module": "@jupyter-widgets/base",
            "_model_module_version": "1.5.0",
            "_view_count": null,
            "_view_module_version": "1.2.0",
            "bar_color": null,
            "_model_module": "@jupyter-widgets/controls"
          }
        },
        "8fdb3528ec7a4b7582976811fb39f403": {
          "model_module": "@jupyter-widgets/base",
          "model_name": "LayoutModel",
          "state": {
            "_view_name": "LayoutView",
            "grid_template_rows": null,
            "right": null,
            "justify_content": null,
            "_view_module": "@jupyter-widgets/base",
            "overflow": null,
            "_model_module_version": "1.2.0",
            "_view_count": null,
            "flex_flow": null,
            "width": null,
            "min_width": null,
            "border": null,
            "align_items": null,
            "bottom": null,
            "_model_module": "@jupyter-widgets/base",
            "top": null,
            "grid_column": null,
            "overflow_y": null,
            "overflow_x": null,
            "grid_auto_flow": null,
            "grid_area": null,
            "grid_template_columns": null,
            "flex": null,
            "_model_name": "LayoutModel",
            "justify_items": null,
            "grid_row": null,
            "max_height": null,
            "align_content": null,
            "visibility": null,
            "align_self": null,
            "height": null,
            "min_height": null,
            "padding": null,
            "grid_auto_rows": null,
            "grid_gap": null,
            "max_width": null,
            "order": null,
            "_view_module_version": "1.2.0",
            "grid_template_areas": null,
            "object_position": null,
            "object_fit": null,
            "grid_auto_columns": null,
            "margin": null,
            "display": null,
            "left": null
          }
        },
        "e944b78271314bbeb3cdc7734ba3e747": {
          "model_module": "@jupyter-widgets/controls",
          "model_name": "DescriptionStyleModel",
          "state": {
            "_view_name": "StyleView",
            "_model_name": "DescriptionStyleModel",
            "description_width": "",
            "_view_module": "@jupyter-widgets/base",
            "_model_module_version": "1.5.0",
            "_view_count": null,
            "_view_module_version": "1.2.0",
            "_model_module": "@jupyter-widgets/controls"
          }
        },
        "fdf78649aacf44cbb4b088aed1b2a430": {
          "model_module": "@jupyter-widgets/base",
          "model_name": "LayoutModel",
          "state": {
            "_view_name": "LayoutView",
            "grid_template_rows": null,
            "right": null,
            "justify_content": null,
            "_view_module": "@jupyter-widgets/base",
            "overflow": null,
            "_model_module_version": "1.2.0",
            "_view_count": null,
            "flex_flow": null,
            "width": null,
            "min_width": null,
            "border": null,
            "align_items": null,
            "bottom": null,
            "_model_module": "@jupyter-widgets/base",
            "top": null,
            "grid_column": null,
            "overflow_y": null,
            "overflow_x": null,
            "grid_auto_flow": null,
            "grid_area": null,
            "grid_template_columns": null,
            "flex": null,
            "_model_name": "LayoutModel",
            "justify_items": null,
            "grid_row": null,
            "max_height": null,
            "align_content": null,
            "visibility": null,
            "align_self": null,
            "height": null,
            "min_height": null,
            "padding": null,
            "grid_auto_rows": null,
            "grid_gap": null,
            "max_width": null,
            "order": null,
            "_view_module_version": "1.2.0",
            "grid_template_areas": null,
            "object_position": null,
            "object_fit": null,
            "grid_auto_columns": null,
            "margin": null,
            "display": null,
            "left": null
          }
        }
      }
    }
  },
  "cells": [
    {
      "cell_type": "code",
      "metadata": {
        "id": "CpsI3-IR70wC",
        "colab": {
          "base_uri": "https://localhost:8080/"
        },
        "outputId": "068a4e2d-5643-4d6f-bd5e-f1a3d881eea1"
      },
      "source": [
        "! pip install transformers\r\n",
        "! pip install kobert-transformers\r\n",
        "! pip install sentencepiece\r\n",
        "! pip install konlpy\r\n",
        "! pip install kss\r\n",
        "! pip install imblearn"
      ],
      "execution_count": 3,
      "outputs": [
        {
          "output_type": "stream",
          "text": [
            "Collecting transformers\n",
            "\u001b[?25l  Downloading https://files.pythonhosted.org/packages/98/87/ef312eef26f5cecd8b17ae9654cdd8d1fae1eb6dbd87257d6d73c128a4d0/transformers-4.3.2-py3-none-any.whl (1.8MB)\n",
            "\r\u001b[K     |▏                               | 10kB 17.4MB/s eta 0:00:01\r\u001b[K     |▍                               | 20kB 25.1MB/s eta 0:00:01\r\u001b[K     |▌                               | 30kB 17.4MB/s eta 0:00:01\r\u001b[K     |▊                               | 40kB 15.0MB/s eta 0:00:01\r\u001b[K     |█                               | 51kB 14.7MB/s eta 0:00:01\r\u001b[K     |█                               | 61kB 16.8MB/s eta 0:00:01\r\u001b[K     |█▎                              | 71kB 11.6MB/s eta 0:00:01\r\u001b[K     |█▌                              | 81kB 12.8MB/s eta 0:00:01\r\u001b[K     |█▋                              | 92kB 11.6MB/s eta 0:00:01\r\u001b[K     |█▉                              | 102kB 11.1MB/s eta 0:00:01\r\u001b[K     |██                              | 112kB 11.1MB/s eta 0:00:01\r\u001b[K     |██▏                             | 122kB 11.1MB/s eta 0:00:01\r\u001b[K     |██▍                             | 133kB 11.1MB/s eta 0:00:01\r\u001b[K     |██▌                             | 143kB 11.1MB/s eta 0:00:01\r\u001b[K     |██▊                             | 153kB 11.1MB/s eta 0:00:01\r\u001b[K     |███                             | 163kB 11.1MB/s eta 0:00:01\r\u001b[K     |███                             | 174kB 11.1MB/s eta 0:00:01\r\u001b[K     |███▎                            | 184kB 11.1MB/s eta 0:00:01\r\u001b[K     |███▍                            | 194kB 11.1MB/s eta 0:00:01\r\u001b[K     |███▋                            | 204kB 11.1MB/s eta 0:00:01\r\u001b[K     |███▉                            | 215kB 11.1MB/s eta 0:00:01\r\u001b[K     |████                            | 225kB 11.1MB/s eta 0:00:01\r\u001b[K     |████▏                           | 235kB 11.1MB/s eta 0:00:01\r\u001b[K     |████▍                           | 245kB 11.1MB/s eta 0:00:01\r\u001b[K     |████▌                           | 256kB 11.1MB/s eta 0:00:01\r\u001b[K     |████▊                           | 266kB 11.1MB/s eta 0:00:01\r\u001b[K     |████▉                           | 276kB 11.1MB/s eta 0:00:01\r\u001b[K     |█████                           | 286kB 11.1MB/s eta 0:00:01\r\u001b[K     |█████▎                          | 296kB 11.1MB/s eta 0:00:01\r\u001b[K     |█████▍                          | 307kB 11.1MB/s eta 0:00:01\r\u001b[K     |█████▋                          | 317kB 11.1MB/s eta 0:00:01\r\u001b[K     |█████▉                          | 327kB 11.1MB/s eta 0:00:01\r\u001b[K     |██████                          | 337kB 11.1MB/s eta 0:00:01\r\u001b[K     |██████▏                         | 348kB 11.1MB/s eta 0:00:01\r\u001b[K     |██████▎                         | 358kB 11.1MB/s eta 0:00:01\r\u001b[K     |██████▌                         | 368kB 11.1MB/s eta 0:00:01\r\u001b[K     |██████▊                         | 378kB 11.1MB/s eta 0:00:01\r\u001b[K     |██████▉                         | 389kB 11.1MB/s eta 0:00:01\r\u001b[K     |███████                         | 399kB 11.1MB/s eta 0:00:01\r\u001b[K     |███████▎                        | 409kB 11.1MB/s eta 0:00:01\r\u001b[K     |███████▍                        | 419kB 11.1MB/s eta 0:00:01\r\u001b[K     |███████▋                        | 430kB 11.1MB/s eta 0:00:01\r\u001b[K     |███████▉                        | 440kB 11.1MB/s eta 0:00:01\r\u001b[K     |████████                        | 450kB 11.1MB/s eta 0:00:01\r\u001b[K     |████████▏                       | 460kB 11.1MB/s eta 0:00:01\r\u001b[K     |████████▎                       | 471kB 11.1MB/s eta 0:00:01\r\u001b[K     |████████▌                       | 481kB 11.1MB/s eta 0:00:01\r\u001b[K     |████████▊                       | 491kB 11.1MB/s eta 0:00:01\r\u001b[K     |████████▉                       | 501kB 11.1MB/s eta 0:00:01\r\u001b[K     |█████████                       | 512kB 11.1MB/s eta 0:00:01\r\u001b[K     |█████████▎                      | 522kB 11.1MB/s eta 0:00:01\r\u001b[K     |█████████▍                      | 532kB 11.1MB/s eta 0:00:01\r\u001b[K     |█████████▋                      | 542kB 11.1MB/s eta 0:00:01\r\u001b[K     |█████████▊                      | 552kB 11.1MB/s eta 0:00:01\r\u001b[K     |██████████                      | 563kB 11.1MB/s eta 0:00:01\r\u001b[K     |██████████▏                     | 573kB 11.1MB/s eta 0:00:01\r\u001b[K     |██████████▎                     | 583kB 11.1MB/s eta 0:00:01\r\u001b[K     |██████████▌                     | 593kB 11.1MB/s eta 0:00:01\r\u001b[K     |██████████▊                     | 604kB 11.1MB/s eta 0:00:01\r\u001b[K     |██████████▉                     | 614kB 11.1MB/s eta 0:00:01\r\u001b[K     |███████████                     | 624kB 11.1MB/s eta 0:00:01\r\u001b[K     |███████████▏                    | 634kB 11.1MB/s eta 0:00:01\r\u001b[K     |███████████▍                    | 645kB 11.1MB/s eta 0:00:01\r\u001b[K     |███████████▋                    | 655kB 11.1MB/s eta 0:00:01\r\u001b[K     |███████████▊                    | 665kB 11.1MB/s eta 0:00:01\r\u001b[K     |████████████                    | 675kB 11.1MB/s eta 0:00:01\r\u001b[K     |████████████▏                   | 686kB 11.1MB/s eta 0:00:01\r\u001b[K     |████████████▎                   | 696kB 11.1MB/s eta 0:00:01\r\u001b[K     |████████████▌                   | 706kB 11.1MB/s eta 0:00:01\r\u001b[K     |████████████▋                   | 716kB 11.1MB/s eta 0:00:01\r\u001b[K     |████████████▉                   | 727kB 11.1MB/s eta 0:00:01\r\u001b[K     |█████████████                   | 737kB 11.1MB/s eta 0:00:01\r\u001b[K     |█████████████▏                  | 747kB 11.1MB/s eta 0:00:01\r\u001b[K     |█████████████▍                  | 757kB 11.1MB/s eta 0:00:01\r\u001b[K     |█████████████▋                  | 768kB 11.1MB/s eta 0:00:01\r\u001b[K     |█████████████▊                  | 778kB 11.1MB/s eta 0:00:01\r\u001b[K     |██████████████                  | 788kB 11.1MB/s eta 0:00:01\r\u001b[K     |██████████████▏                 | 798kB 11.1MB/s eta 0:00:01\r\u001b[K     |██████████████▎                 | 808kB 11.1MB/s eta 0:00:01\r\u001b[K     |██████████████▌                 | 819kB 11.1MB/s eta 0:00:01\r\u001b[K     |██████████████▋                 | 829kB 11.1MB/s eta 0:00:01\r\u001b[K     |██████████████▉                 | 839kB 11.1MB/s eta 0:00:01\r\u001b[K     |███████████████                 | 849kB 11.1MB/s eta 0:00:01\r\u001b[K     |███████████████▏                | 860kB 11.1MB/s eta 0:00:01\r\u001b[K     |███████████████▍                | 870kB 11.1MB/s eta 0:00:01\r\u001b[K     |███████████████▋                | 880kB 11.1MB/s eta 0:00:01\r\u001b[K     |███████████████▊                | 890kB 11.1MB/s eta 0:00:01\r\u001b[K     |████████████████                | 901kB 11.1MB/s eta 0:00:01\r\u001b[K     |████████████████                | 911kB 11.1MB/s eta 0:00:01\r\u001b[K     |████████████████▎               | 921kB 11.1MB/s eta 0:00:01\r\u001b[K     |████████████████▌               | 931kB 11.1MB/s eta 0:00:01\r\u001b[K     |████████████████▋               | 942kB 11.1MB/s eta 0:00:01\r\u001b[K     |████████████████▉               | 952kB 11.1MB/s eta 0:00:01\r\u001b[K     |█████████████████               | 962kB 11.1MB/s eta 0:00:01\r\u001b[K     |█████████████████▏              | 972kB 11.1MB/s eta 0:00:01\r\u001b[K     |█████████████████▍              | 983kB 11.1MB/s eta 0:00:01\r\u001b[K     |█████████████████▌              | 993kB 11.1MB/s eta 0:00:01\r\u001b[K     |█████████████████▊              | 1.0MB 11.1MB/s eta 0:00:01\r\u001b[K     |██████████████████              | 1.0MB 11.1MB/s eta 0:00:01\r\u001b[K     |██████████████████              | 1.0MB 11.1MB/s eta 0:00:01\r\u001b[K     |██████████████████▎             | 1.0MB 11.1MB/s eta 0:00:01\r\u001b[K     |██████████████████▌             | 1.0MB 11.1MB/s eta 0:00:01\r\u001b[K     |██████████████████▋             | 1.1MB 11.1MB/s eta 0:00:01\r\u001b[K     |██████████████████▉             | 1.1MB 11.1MB/s eta 0:00:01\r\u001b[K     |███████████████████             | 1.1MB 11.1MB/s eta 0:00:01\r\u001b[K     |███████████████████▏            | 1.1MB 11.1MB/s eta 0:00:01\r\u001b[K     |███████████████████▍            | 1.1MB 11.1MB/s eta 0:00:01\r\u001b[K     |███████████████████▌            | 1.1MB 11.1MB/s eta 0:00:01\r\u001b[K     |███████████████████▊            | 1.1MB 11.1MB/s eta 0:00:01\r\u001b[K     |████████████████████            | 1.1MB 11.1MB/s eta 0:00:01\r\u001b[K     |████████████████████            | 1.1MB 11.1MB/s eta 0:00:01\r\u001b[K     |████████████████████▎           | 1.1MB 11.1MB/s eta 0:00:01\r\u001b[K     |████████████████████▌           | 1.2MB 11.1MB/s eta 0:00:01\r\u001b[K     |████████████████████▋           | 1.2MB 11.1MB/s eta 0:00:01\r\u001b[K     |████████████████████▉           | 1.2MB 11.1MB/s eta 0:00:01\r\u001b[K     |█████████████████████           | 1.2MB 11.1MB/s eta 0:00:01\r\u001b[K     |█████████████████████▏          | 1.2MB 11.1MB/s eta 0:00:01\r\u001b[K     |█████████████████████▍          | 1.2MB 11.1MB/s eta 0:00:01\r\u001b[K     |█████████████████████▌          | 1.2MB 11.1MB/s eta 0:00:01\r\u001b[K     |█████████████████████▊          | 1.2MB 11.1MB/s eta 0:00:01\r\u001b[K     |██████████████████████          | 1.2MB 11.1MB/s eta 0:00:01\r\u001b[K     |██████████████████████          | 1.2MB 11.1MB/s eta 0:00:01\r\u001b[K     |██████████████████████▎         | 1.3MB 11.1MB/s eta 0:00:01\r\u001b[K     |██████████████████████▍         | 1.3MB 11.1MB/s eta 0:00:01\r\u001b[K     |██████████████████████▋         | 1.3MB 11.1MB/s eta 0:00:01\r\u001b[K     |██████████████████████▉         | 1.3MB 11.1MB/s eta 0:00:01\r\u001b[K     |███████████████████████         | 1.3MB 11.1MB/s eta 0:00:01\r\u001b[K     |███████████████████████▏        | 1.3MB 11.1MB/s eta 0:00:01\r\u001b[K     |███████████████████████▍        | 1.3MB 11.1MB/s eta 0:00:01\r\u001b[K     |███████████████████████▌        | 1.3MB 11.1MB/s eta 0:00:01\r\u001b[K     |███████████████████████▊        | 1.3MB 11.1MB/s eta 0:00:01\r\u001b[K     |███████████████████████▉        | 1.4MB 11.1MB/s eta 0:00:01\r\u001b[K     |████████████████████████        | 1.4MB 11.1MB/s eta 0:00:01\r\u001b[K     |████████████████████████▎       | 1.4MB 11.1MB/s eta 0:00:01\r\u001b[K     |████████████████████████▍       | 1.4MB 11.1MB/s eta 0:00:01\r\u001b[K     |████████████████████████▋       | 1.4MB 11.1MB/s eta 0:00:01\r\u001b[K     |████████████████████████▉       | 1.4MB 11.1MB/s eta 0:00:01\r\u001b[K     |█████████████████████████       | 1.4MB 11.1MB/s eta 0:00:01\r\u001b[K     |█████████████████████████▏      | 1.4MB 11.1MB/s eta 0:00:01\r\u001b[K     |█████████████████████████▎      | 1.4MB 11.1MB/s eta 0:00:01\r\u001b[K     |█████████████████████████▌      | 1.4MB 11.1MB/s eta 0:00:01\r\u001b[K     |█████████████████████████▊      | 1.5MB 11.1MB/s eta 0:00:01\r\u001b[K     |█████████████████████████▉      | 1.5MB 11.1MB/s eta 0:00:01\r\u001b[K     |██████████████████████████      | 1.5MB 11.1MB/s eta 0:00:01\r\u001b[K     |██████████████████████████▎     | 1.5MB 11.1MB/s eta 0:00:01\r\u001b[K     |██████████████████████████▍     | 1.5MB 11.1MB/s eta 0:00:01\r\u001b[K     |██████████████████████████▋     | 1.5MB 11.1MB/s eta 0:00:01\r\u001b[K     |██████████████████████████▉     | 1.5MB 11.1MB/s eta 0:00:01\r\u001b[K     |███████████████████████████     | 1.5MB 11.1MB/s eta 0:00:01\r\u001b[K     |███████████████████████████▏    | 1.5MB 11.1MB/s eta 0:00:01\r\u001b[K     |███████████████████████████▎    | 1.5MB 11.1MB/s eta 0:00:01\r\u001b[K     |███████████████████████████▌    | 1.6MB 11.1MB/s eta 0:00:01\r\u001b[K     |███████████████████████████▊    | 1.6MB 11.1MB/s eta 0:00:01\r\u001b[K     |███████████████████████████▉    | 1.6MB 11.1MB/s eta 0:00:01\r\u001b[K     |████████████████████████████    | 1.6MB 11.1MB/s eta 0:00:01\r\u001b[K     |████████████████████████████▎   | 1.6MB 11.1MB/s eta 0:00:01\r\u001b[K     |████████████████████████████▍   | 1.6MB 11.1MB/s eta 0:00:01\r\u001b[K     |████████████████████████████▋   | 1.6MB 11.1MB/s eta 0:00:01\r\u001b[K     |████████████████████████████▊   | 1.6MB 11.1MB/s eta 0:00:01\r\u001b[K     |█████████████████████████████   | 1.6MB 11.1MB/s eta 0:00:01\r\u001b[K     |█████████████████████████████▏  | 1.6MB 11.1MB/s eta 0:00:01\r\u001b[K     |█████████████████████████████▎  | 1.7MB 11.1MB/s eta 0:00:01\r\u001b[K     |█████████████████████████████▌  | 1.7MB 11.1MB/s eta 0:00:01\r\u001b[K     |█████████████████████████████▊  | 1.7MB 11.1MB/s eta 0:00:01\r\u001b[K     |█████████████████████████████▉  | 1.7MB 11.1MB/s eta 0:00:01\r\u001b[K     |██████████████████████████████  | 1.7MB 11.1MB/s eta 0:00:01\r\u001b[K     |██████████████████████████████▏ | 1.7MB 11.1MB/s eta 0:00:01\r\u001b[K     |██████████████████████████████▍ | 1.7MB 11.1MB/s eta 0:00:01\r\u001b[K     |██████████████████████████████▋ | 1.7MB 11.1MB/s eta 0:00:01\r\u001b[K     |██████████████████████████████▊ | 1.7MB 11.1MB/s eta 0:00:01\r\u001b[K     |███████████████████████████████ | 1.8MB 11.1MB/s eta 0:00:01\r\u001b[K     |███████████████████████████████▏| 1.8MB 11.1MB/s eta 0:00:01\r\u001b[K     |███████████████████████████████▎| 1.8MB 11.1MB/s eta 0:00:01\r\u001b[K     |███████████████████████████████▌| 1.8MB 11.1MB/s eta 0:00:01\r\u001b[K     |███████████████████████████████▋| 1.8MB 11.1MB/s eta 0:00:01\r\u001b[K     |███████████████████████████████▉| 1.8MB 11.1MB/s eta 0:00:01\r\u001b[K     |████████████████████████████████| 1.8MB 11.1MB/s \n",
            "\u001b[?25hRequirement already satisfied: requests in /usr/local/lib/python3.6/dist-packages (from transformers) (2.23.0)\n",
            "Requirement already satisfied: filelock in /usr/local/lib/python3.6/dist-packages (from transformers) (3.0.12)\n",
            "Collecting tokenizers<0.11,>=0.10.1\n",
            "\u001b[?25l  Downloading https://files.pythonhosted.org/packages/fd/5b/44baae602e0a30bcc53fbdbc60bd940c15e143d252d658dfdefce736ece5/tokenizers-0.10.1-cp36-cp36m-manylinux2010_x86_64.whl (3.2MB)\n",
            "\u001b[K     |████████████████████████████████| 3.2MB 56.4MB/s \n",
            "\u001b[?25hCollecting sacremoses\n",
            "\u001b[?25l  Downloading https://files.pythonhosted.org/packages/7d/34/09d19aff26edcc8eb2a01bed8e98f13a1537005d31e95233fd48216eed10/sacremoses-0.0.43.tar.gz (883kB)\n",
            "\u001b[K     |████████████████████████████████| 890kB 53.6MB/s \n",
            "\u001b[?25hRequirement already satisfied: numpy>=1.17 in /usr/local/lib/python3.6/dist-packages (from transformers) (1.19.5)\n",
            "Requirement already satisfied: tqdm>=4.27 in /usr/local/lib/python3.6/dist-packages (from transformers) (4.41.1)\n",
            "Requirement already satisfied: importlib-metadata; python_version < \"3.8\" in /usr/local/lib/python3.6/dist-packages (from transformers) (3.4.0)\n",
            "Requirement already satisfied: packaging in /usr/local/lib/python3.6/dist-packages (from transformers) (20.9)\n",
            "Requirement already satisfied: regex!=2019.12.17 in /usr/local/lib/python3.6/dist-packages (from transformers) (2019.12.20)\n",
            "Requirement already satisfied: dataclasses; python_version < \"3.7\" in /usr/local/lib/python3.6/dist-packages (from transformers) (0.8)\n",
            "Requirement already satisfied: urllib3!=1.25.0,!=1.25.1,<1.26,>=1.21.1 in /usr/local/lib/python3.6/dist-packages (from requests->transformers) (1.24.3)\n",
            "Requirement already satisfied: chardet<4,>=3.0.2 in /usr/local/lib/python3.6/dist-packages (from requests->transformers) (3.0.4)\n",
            "Requirement already satisfied: idna<3,>=2.5 in /usr/local/lib/python3.6/dist-packages (from requests->transformers) (2.10)\n",
            "Requirement already satisfied: certifi>=2017.4.17 in /usr/local/lib/python3.6/dist-packages (from requests->transformers) (2020.12.5)\n",
            "Requirement already satisfied: six in /usr/local/lib/python3.6/dist-packages (from sacremoses->transformers) (1.15.0)\n",
            "Requirement already satisfied: click in /usr/local/lib/python3.6/dist-packages (from sacremoses->transformers) (7.1.2)\n",
            "Requirement already satisfied: joblib in /usr/local/lib/python3.6/dist-packages (from sacremoses->transformers) (1.0.0)\n",
            "Requirement already satisfied: typing-extensions>=3.6.4; python_version < \"3.8\" in /usr/local/lib/python3.6/dist-packages (from importlib-metadata; python_version < \"3.8\"->transformers) (3.7.4.3)\n",
            "Requirement already satisfied: zipp>=0.5 in /usr/local/lib/python3.6/dist-packages (from importlib-metadata; python_version < \"3.8\"->transformers) (3.4.0)\n",
            "Requirement already satisfied: pyparsing>=2.0.2 in /usr/local/lib/python3.6/dist-packages (from packaging->transformers) (2.4.7)\n",
            "Building wheels for collected packages: sacremoses\n",
            "  Building wheel for sacremoses (setup.py) ... \u001b[?25l\u001b[?25hdone\n",
            "  Created wheel for sacremoses: filename=sacremoses-0.0.43-cp36-none-any.whl size=893261 sha256=57fabb0899d4faf74de913ad4fc69283bcf4d6984b0d5a03ab119a02c3c3039c\n",
            "  Stored in directory: /root/.cache/pip/wheels/29/3c/fd/7ce5c3f0666dab31a50123635e6fb5e19ceb42ce38d4e58f45\n",
            "Successfully built sacremoses\n",
            "Installing collected packages: tokenizers, sacremoses, transformers\n",
            "Successfully installed sacremoses-0.0.43 tokenizers-0.10.1 transformers-4.3.2\n",
            "Collecting kobert-transformers\n",
            "  Downloading https://files.pythonhosted.org/packages/f3/6d/f4e21513c1f26cacd68c144a428ccaa90dd92d85985e878976ebbaf06624/kobert_transformers-0.4.1-py3-none-any.whl\n",
            "Requirement already satisfied: torch>=1.1.0 in /usr/local/lib/python3.6/dist-packages (from kobert-transformers) (1.7.0+cu101)\n",
            "Requirement already satisfied: transformers>=2.9.1 in /usr/local/lib/python3.6/dist-packages (from kobert-transformers) (4.3.2)\n",
            "Requirement already satisfied: numpy in /usr/local/lib/python3.6/dist-packages (from torch>=1.1.0->kobert-transformers) (1.19.5)\n",
            "Requirement already satisfied: dataclasses in /usr/local/lib/python3.6/dist-packages (from torch>=1.1.0->kobert-transformers) (0.8)\n",
            "Requirement already satisfied: typing-extensions in /usr/local/lib/python3.6/dist-packages (from torch>=1.1.0->kobert-transformers) (3.7.4.3)\n",
            "Requirement already satisfied: future in /usr/local/lib/python3.6/dist-packages (from torch>=1.1.0->kobert-transformers) (0.16.0)\n",
            "Requirement already satisfied: regex!=2019.12.17 in /usr/local/lib/python3.6/dist-packages (from transformers>=2.9.1->kobert-transformers) (2019.12.20)\n",
            "Requirement already satisfied: tqdm>=4.27 in /usr/local/lib/python3.6/dist-packages (from transformers>=2.9.1->kobert-transformers) (4.41.1)\n",
            "Requirement already satisfied: sacremoses in /usr/local/lib/python3.6/dist-packages (from transformers>=2.9.1->kobert-transformers) (0.0.43)\n",
            "Requirement already satisfied: filelock in /usr/local/lib/python3.6/dist-packages (from transformers>=2.9.1->kobert-transformers) (3.0.12)\n",
            "Requirement already satisfied: requests in /usr/local/lib/python3.6/dist-packages (from transformers>=2.9.1->kobert-transformers) (2.23.0)\n",
            "Requirement already satisfied: importlib-metadata; python_version < \"3.8\" in /usr/local/lib/python3.6/dist-packages (from transformers>=2.9.1->kobert-transformers) (3.4.0)\n",
            "Requirement already satisfied: packaging in /usr/local/lib/python3.6/dist-packages (from transformers>=2.9.1->kobert-transformers) (20.9)\n",
            "Requirement already satisfied: tokenizers<0.11,>=0.10.1 in /usr/local/lib/python3.6/dist-packages (from transformers>=2.9.1->kobert-transformers) (0.10.1)\n",
            "Requirement already satisfied: click in /usr/local/lib/python3.6/dist-packages (from sacremoses->transformers>=2.9.1->kobert-transformers) (7.1.2)\n",
            "Requirement already satisfied: joblib in /usr/local/lib/python3.6/dist-packages (from sacremoses->transformers>=2.9.1->kobert-transformers) (1.0.0)\n",
            "Requirement already satisfied: six in /usr/local/lib/python3.6/dist-packages (from sacremoses->transformers>=2.9.1->kobert-transformers) (1.15.0)\n",
            "Requirement already satisfied: certifi>=2017.4.17 in /usr/local/lib/python3.6/dist-packages (from requests->transformers>=2.9.1->kobert-transformers) (2020.12.5)\n",
            "Requirement already satisfied: urllib3!=1.25.0,!=1.25.1,<1.26,>=1.21.1 in /usr/local/lib/python3.6/dist-packages (from requests->transformers>=2.9.1->kobert-transformers) (1.24.3)\n",
            "Requirement already satisfied: idna<3,>=2.5 in /usr/local/lib/python3.6/dist-packages (from requests->transformers>=2.9.1->kobert-transformers) (2.10)\n",
            "Requirement already satisfied: chardet<4,>=3.0.2 in /usr/local/lib/python3.6/dist-packages (from requests->transformers>=2.9.1->kobert-transformers) (3.0.4)\n",
            "Requirement already satisfied: zipp>=0.5 in /usr/local/lib/python3.6/dist-packages (from importlib-metadata; python_version < \"3.8\"->transformers>=2.9.1->kobert-transformers) (3.4.0)\n",
            "Requirement already satisfied: pyparsing>=2.0.2 in /usr/local/lib/python3.6/dist-packages (from packaging->transformers>=2.9.1->kobert-transformers) (2.4.7)\n",
            "Installing collected packages: kobert-transformers\n",
            "Successfully installed kobert-transformers-0.4.1\n",
            "Collecting sentencepiece\n",
            "\u001b[?25l  Downloading https://files.pythonhosted.org/packages/14/67/e42bd1181472c95c8cda79305df848264f2a7f62740995a46945d9797b67/sentencepiece-0.1.95-cp36-cp36m-manylinux2014_x86_64.whl (1.2MB)\n",
            "\u001b[K     |████████████████████████████████| 1.2MB 11.5MB/s \n",
            "\u001b[?25hInstalling collected packages: sentencepiece\n",
            "Successfully installed sentencepiece-0.1.95\n",
            "Collecting konlpy\n",
            "\u001b[?25l  Downloading https://files.pythonhosted.org/packages/85/0e/f385566fec837c0b83f216b2da65db9997b35dd675e107752005b7d392b1/konlpy-0.5.2-py2.py3-none-any.whl (19.4MB)\n",
            "\u001b[K     |████████████████████████████████| 19.4MB 395kB/s \n",
            "\u001b[?25hCollecting tweepy>=3.7.0\n",
            "  Downloading https://files.pythonhosted.org/packages/67/c3/6bed87f3b1e5ed2f34bd58bf7978e308c86e255193916be76e5a5ce5dfca/tweepy-3.10.0-py2.py3-none-any.whl\n",
            "Requirement already satisfied: lxml>=4.1.0 in /usr/local/lib/python3.6/dist-packages (from konlpy) (4.2.6)\n",
            "Collecting JPype1>=0.7.0\n",
            "\u001b[?25l  Downloading https://files.pythonhosted.org/packages/de/af/93f92b38ec1ff3091cd38982ed19cea2800fefb609b5801c41fc43c0781e/JPype1-1.2.1-cp36-cp36m-manylinux2010_x86_64.whl (457kB)\n",
            "\u001b[K     |████████████████████████████████| 460kB 59.6MB/s \n",
            "\u001b[?25hCollecting beautifulsoup4==4.6.0\n",
            "\u001b[?25l  Downloading https://files.pythonhosted.org/packages/9e/d4/10f46e5cfac773e22707237bfcd51bbffeaf0a576b0a847ec7ab15bd7ace/beautifulsoup4-4.6.0-py3-none-any.whl (86kB)\n",
            "\u001b[K     |████████████████████████████████| 92kB 6.4MB/s \n",
            "\u001b[?25hCollecting colorama\n",
            "  Downloading https://files.pythonhosted.org/packages/44/98/5b86278fbbf250d239ae0ecb724f8572af1c91f4a11edf4d36a206189440/colorama-0.4.4-py2.py3-none-any.whl\n",
            "Requirement already satisfied: numpy>=1.6 in /usr/local/lib/python3.6/dist-packages (from konlpy) (1.19.5)\n",
            "Requirement already satisfied: requests-oauthlib>=0.7.0 in /usr/local/lib/python3.6/dist-packages (from tweepy>=3.7.0->konlpy) (1.3.0)\n",
            "Requirement already satisfied: six>=1.10.0 in /usr/local/lib/python3.6/dist-packages (from tweepy>=3.7.0->konlpy) (1.15.0)\n",
            "Requirement already satisfied: requests[socks]>=2.11.1 in /usr/local/lib/python3.6/dist-packages (from tweepy>=3.7.0->konlpy) (2.23.0)\n",
            "Requirement already satisfied: typing-extensions; python_version < \"3.8\" in /usr/local/lib/python3.6/dist-packages (from JPype1>=0.7.0->konlpy) (3.7.4.3)\n",
            "Requirement already satisfied: oauthlib>=3.0.0 in /usr/local/lib/python3.6/dist-packages (from requests-oauthlib>=0.7.0->tweepy>=3.7.0->konlpy) (3.1.0)\n",
            "Requirement already satisfied: idna<3,>=2.5 in /usr/local/lib/python3.6/dist-packages (from requests[socks]>=2.11.1->tweepy>=3.7.0->konlpy) (2.10)\n",
            "Requirement already satisfied: urllib3!=1.25.0,!=1.25.1,<1.26,>=1.21.1 in /usr/local/lib/python3.6/dist-packages (from requests[socks]>=2.11.1->tweepy>=3.7.0->konlpy) (1.24.3)\n",
            "Requirement already satisfied: certifi>=2017.4.17 in /usr/local/lib/python3.6/dist-packages (from requests[socks]>=2.11.1->tweepy>=3.7.0->konlpy) (2020.12.5)\n",
            "Requirement already satisfied: chardet<4,>=3.0.2 in /usr/local/lib/python3.6/dist-packages (from requests[socks]>=2.11.1->tweepy>=3.7.0->konlpy) (3.0.4)\n",
            "Requirement already satisfied: PySocks!=1.5.7,>=1.5.6; extra == \"socks\" in /usr/local/lib/python3.6/dist-packages (from requests[socks]>=2.11.1->tweepy>=3.7.0->konlpy) (1.7.1)\n",
            "Installing collected packages: tweepy, JPype1, beautifulsoup4, colorama, konlpy\n",
            "  Found existing installation: tweepy 3.6.0\n",
            "    Uninstalling tweepy-3.6.0:\n",
            "      Successfully uninstalled tweepy-3.6.0\n",
            "  Found existing installation: beautifulsoup4 4.6.3\n",
            "    Uninstalling beautifulsoup4-4.6.3:\n",
            "      Successfully uninstalled beautifulsoup4-4.6.3\n",
            "Successfully installed JPype1-1.2.1 beautifulsoup4-4.6.0 colorama-0.4.4 konlpy-0.5.2 tweepy-3.10.0\n",
            "Collecting kss\n",
            "\u001b[?25l  Downloading https://files.pythonhosted.org/packages/c9/e2/43ac92280810437a552111db85a0379dfaa5ca8ccd81d27a547e9091e5d5/kss-2.5.0-py3-none-any.whl (68kB)\n",
            "\u001b[K     |████████████████████████████████| 71kB 5.0MB/s \n",
            "\u001b[?25hInstalling collected packages: kss\n",
            "Successfully installed kss-2.5.0\n",
            "Requirement already satisfied: imblearn in /usr/local/lib/python3.6/dist-packages (0.0)\n",
            "Requirement already satisfied: imbalanced-learn in /usr/local/lib/python3.6/dist-packages (from imblearn) (0.4.3)\n",
            "Requirement already satisfied: scipy>=0.13.3 in /usr/local/lib/python3.6/dist-packages (from imbalanced-learn->imblearn) (1.4.1)\n",
            "Requirement already satisfied: numpy>=1.8.2 in /usr/local/lib/python3.6/dist-packages (from imbalanced-learn->imblearn) (1.19.5)\n",
            "Requirement already satisfied: scikit-learn>=0.20 in /usr/local/lib/python3.6/dist-packages (from imbalanced-learn->imblearn) (0.22.2.post1)\n",
            "Requirement already satisfied: joblib>=0.11 in /usr/local/lib/python3.6/dist-packages (from scikit-learn>=0.20->imbalanced-learn->imblearn) (1.0.0)\n"
          ],
          "name": "stdout"
        }
      ]
    },
    {
      "cell_type": "code",
      "metadata": {
        "id": "HkxFUF_tHJP2",
        "colab": {
          "base_uri": "https://localhost:8080/",
          "height": 239,
          "referenced_widgets": [
            "c673ac5f7978473cb3f3db160a890631",
            "2247581c5a554fe48efcdedf8687f127",
            "8320ec85e4ef4345a4cbc3ae70c0fe8a",
            "c831a55e7c35453d995ac65d40db549b",
            "ee5777b2d6584c8cac5adb9d8295b48c",
            "3daa5bad35824c1c8a547d556349c631",
            "8f38246d31434e2d939b2a1512f73e81",
            "28159fcc98c149f89be7731ee9981b3d",
            "07ebfa55caf240a3a70af4eeea681b7e",
            "d7ddf4f2dd0b47019b46e79b9308b2fe",
            "cfc59a4f89854c58b37ba8c3b0e6fa68",
            "37c131939b234c7d88563e4abe4a643b",
            "d0677ea53300449da980cc46da057bcf",
            "e93555f796974f6baf68ed5d87a764d4",
            "2874a1fcb4074f9495a02c9e287d693f",
            "087542175af14d789784df30e2435e19",
            "175dc142cd6a47e2af6d7694aec9a332",
            "881fbdeab5104d958194cde0d67eecba",
            "ecf566495c5c4ec0a2d86dcd008c1ff9",
            "d1cd43db4c0d4fb286aeed9a1ac12ac9",
            "9c5ee57c5d0b435193566dcbce0c7bd5",
            "88b6b231d34b4d9bb79175d1cd6c5101",
            "47c08ba1cbfe43ea8e7907e9b22f2557",
            "e885a946f14e4cb9a1884c081d2b2337",
            "97d6c301d0a94544991196b932f6a978",
            "e79311e7a40f43e88f068b3f3f733e81",
            "b8aeae8abfac40469edb286d3f753341",
            "2b5f4cb8b1c5484589df8a3054944bdc",
            "89463787dbe748d18062265ea463634c",
            "8fdb3528ec7a4b7582976811fb39f403",
            "e944b78271314bbeb3cdc7734ba3e747",
            "fdf78649aacf44cbb4b088aed1b2a430"
          ]
        },
        "outputId": "036a118f-d000-48b2-a520-0dfda0fab7f8"
      },
      "source": [
        "import pandas as pd\r\n",
        "from pandas import DataFrame as df\r\n",
        "import numpy as np\r\n",
        "import seaborn as sns\r\n",
        "import re\r\n",
        "import os\r\n",
        "from google.colab import drive\r\n",
        "import time,datetime\r\n",
        "from tqdm import tqdm\r\n",
        "import copy\r\n",
        "from matplotlib import pyplot as plt\r\n",
        "from kobert_transformers import get_kobert_model,get_tokenizer\r\n",
        "import kss\r\n",
        "drive.mount('/content/gdrive')\r\n",
        "os.chdir('./gdrive/My Drive/기상청')\r\n",
        "# BERT Tokenizer\r\n",
        "tokenizer = get_tokenizer()\r\n",
        "# BERT Model\r\n",
        "kobert = get_kobert_model()"
      ],
      "execution_count": 4,
      "outputs": [
        {
          "output_type": "stream",
          "text": [
            "Mounted at /content/gdrive\n"
          ],
          "name": "stdout"
        },
        {
          "output_type": "display_data",
          "data": {
            "application/vnd.jupyter.widget-view+json": {
              "model_id": "c673ac5f7978473cb3f3db160a890631",
              "version_minor": 0,
              "version_major": 2
            },
            "text/plain": [
              "HBox(children=(FloatProgress(value=0.0, description='Downloading', max=371391.0, style=ProgressStyle(descripti…"
            ]
          },
          "metadata": {
            "tags": []
          }
        },
        {
          "output_type": "stream",
          "text": [
            "\n"
          ],
          "name": "stdout"
        },
        {
          "output_type": "display_data",
          "data": {
            "application/vnd.jupyter.widget-view+json": {
              "model_id": "07ebfa55caf240a3a70af4eeea681b7e",
              "version_minor": 0,
              "version_major": 2
            },
            "text/plain": [
              "HBox(children=(FloatProgress(value=0.0, description='Downloading', max=77779.0, style=ProgressStyle(descriptio…"
            ]
          },
          "metadata": {
            "tags": []
          }
        },
        {
          "output_type": "stream",
          "text": [
            "\n"
          ],
          "name": "stdout"
        },
        {
          "output_type": "display_data",
          "data": {
            "application/vnd.jupyter.widget-view+json": {
              "model_id": "175dc142cd6a47e2af6d7694aec9a332",
              "version_minor": 0,
              "version_major": 2
            },
            "text/plain": [
              "HBox(children=(FloatProgress(value=0.0, description='Downloading', max=426.0, style=ProgressStyle(description_…"
            ]
          },
          "metadata": {
            "tags": []
          }
        },
        {
          "output_type": "stream",
          "text": [
            "\n"
          ],
          "name": "stdout"
        },
        {
          "output_type": "display_data",
          "data": {
            "application/vnd.jupyter.widget-view+json": {
              "model_id": "97d6c301d0a94544991196b932f6a978",
              "version_minor": 0,
              "version_major": 2
            },
            "text/plain": [
              "HBox(children=(FloatProgress(value=0.0, description='Downloading', max=368792146.0, style=ProgressStyle(descri…"
            ]
          },
          "metadata": {
            "tags": []
          }
        },
        {
          "output_type": "stream",
          "text": [
            "\n"
          ],
          "name": "stdout"
        }
      ]
    },
    {
      "cell_type": "markdown",
      "metadata": {
        "id": "OJMRR8hx-NXj"
      },
      "source": [
        "# EDA"
      ]
    },
    {
      "cell_type": "code",
      "metadata": {
        "id": "bqnko0MO6XIs"
      },
      "source": [
        "data = pd.read_csv('./Final_data.csv')\r\n",
        "data.rename(columns = {'피해' : 'damage', 'Title':'title'}, inplace = True)"
      ],
      "execution_count": 16,
      "outputs": []
    },
    {
      "cell_type": "code",
      "metadata": {
        "colab": {
          "base_uri": "https://localhost:8080/",
          "height": 202
        },
        "id": "mfkD_OgY6aMD",
        "outputId": "16207b09-a1a3-4017-c3dc-5d09a33fe7ca"
      },
      "source": [
        "data.head()"
      ],
      "execution_count": 17,
      "outputs": [
        {
          "output_type": "execute_result",
          "data": {
            "text/html": [
              "<div>\n",
              "<style scoped>\n",
              "    .dataframe tbody tr th:only-of-type {\n",
              "        vertical-align: middle;\n",
              "    }\n",
              "\n",
              "    .dataframe tbody tr th {\n",
              "        vertical-align: top;\n",
              "    }\n",
              "\n",
              "    .dataframe thead th {\n",
              "        text-align: right;\n",
              "    }\n",
              "</style>\n",
              "<table border=\"1\" class=\"dataframe\">\n",
              "  <thead>\n",
              "    <tr style=\"text-align: right;\">\n",
              "      <th></th>\n",
              "      <th>title</th>\n",
              "      <th>maintext</th>\n",
              "      <th>damage</th>\n",
              "    </tr>\n",
              "  </thead>\n",
              "  <tbody>\n",
              "    <tr>\n",
              "      <th>0</th>\n",
              "      <td>동국대일산병원, 무더위 속 '얼음생수 나눔 캠페인' 펼쳐</td>\n",
              "      <td>동국대학교 일산병원(병원장 이해원)은 병원 정문 앞 버스 승강장과 택시 승강장에서 ...</td>\n",
              "      <td>0</td>\n",
              "    </tr>\n",
              "    <tr>\n",
              "      <th>1</th>\n",
              "      <td>폭염에 따른 하수처리장 및 공공하수도 안전점검</td>\n",
              "      <td>연천군 맑은물관리사업소는 연일 이어지는 폭염속에 식수 및 생활용수 등 하수 사용량이...</td>\n",
              "      <td>0</td>\n",
              "    </tr>\n",
              "    <tr>\n",
              "      <th>2</th>\n",
              "      <td>가평군, 물놀이 취약시설 안전점검 강화</td>\n",
              "      <td>▲ 물놀이취약시설현장점검나서\\n\\n\\n\\n김성기 가평군수가 폭염으로 증가하는 물놀이...</td>\n",
              "      <td>0</td>\n",
              "    </tr>\n",
              "    <tr>\n",
              "      <th>3</th>\n",
              "      <td>용인송담대, 슈퍼쿨비즈 시범운영한다</td>\n",
              "      <td>▲ 대학교에서도 시행되는 용인송담대 '슈퍼쿨비즈(Supe Cool Biz)' 시범운...</td>\n",
              "      <td>0</td>\n",
              "    </tr>\n",
              "    <tr>\n",
              "      <th>4</th>\n",
              "      <td>이천소방서, 한국119소년단 '불나면 대피먼저'캠페인 실시</td>\n",
              "      <td>▲한국119소년단 ‘불나면 대피먼저’캠페인\\n\\n\\n\\n이천소방서(서장 고문수)는 ...</td>\n",
              "      <td>0</td>\n",
              "    </tr>\n",
              "  </tbody>\n",
              "</table>\n",
              "</div>"
            ],
            "text/plain": [
              "                              title  ... damage\n",
              "0   동국대일산병원, 무더위 속 '얼음생수 나눔 캠페인' 펼쳐  ...      0\n",
              "1         폭염에 따른 하수처리장 및 공공하수도 안전점검  ...      0\n",
              "2             가평군, 물놀이 취약시설 안전점검 강화  ...      0\n",
              "3               용인송담대, 슈퍼쿨비즈 시범운영한다  ...      0\n",
              "4  이천소방서, 한국119소년단 '불나면 대피먼저'캠페인 실시  ...      0\n",
              "\n",
              "[5 rows x 3 columns]"
            ]
          },
          "metadata": {
            "tags": []
          },
          "execution_count": 17
        }
      ]
    },
    {
      "cell_type": "code",
      "metadata": {
        "colab": {
          "base_uri": "https://localhost:8080/",
          "height": 319
        },
        "id": "mzGtv7Si1id6",
        "outputId": "3e27d354-bb95-40ef-b3b4-50517c4405f4"
      },
      "source": [
        "sns.histplot(data.damage)\r\n",
        "print('피해 기사 수',(data.damage==1).sum())\r\n",
        "print('비피해 기사 수',(data.damage==0).sum())"
      ],
      "execution_count": 15,
      "outputs": [
        {
          "output_type": "stream",
          "text": [
            "피해 기사 수 1301\n",
            "비피해 기사 수 6747\n"
          ],
          "name": "stdout"
        },
        {
          "output_type": "display_data",
          "data": {
            "image/png": "[encoded data removed]",
            "text/plain": [
              "<Figure size 432x288 with 1 Axes>"
            ]
          },
          "metadata": {
            "tags": [],
            "needs_background": "light"
          }
        }
      ]
    },
    {
      "cell_type": "code",
      "metadata": {
        "id": "aHvWKl5r7dhY"
      },
      "source": [
        "# cleansing 작업\r\n",
        "def cleansing(text):\r\n",
        "    # \\n -> ' '\r\n",
        "    text=text\r\n",
        "    # \\n+은 ' '로 치환\r\n",
        "    text=re.sub('\\n+',' ',text)\r\n",
        "    # 괄호 제거\r\n",
        "    text=re.sub('\\(.+?\\)|\\[.+?\\]|\\<.+?\\>','',text)\r\n",
        "    # 한글, ., ,숫자가 아닌 경우 빈칸으로 치환\r\n",
        "    text=re.sub('[^ ㄱ-ㅣ가-힣,.0-9]+','',text)\r\n",
        "    # 문장 분리기를 활용해서 불용어가 있는 경우 제거\r\n",
        "    result=[]\r\n",
        "    for sentence in kss.split_sentences(text):\r\n",
        "        for i in ['사진','기자','배포금지','무단배포','@','뉴스룸','닷컴']:\r\n",
        "            if i in sentence:\r\n",
        "                break\r\n",
        "        else:\r\n",
        "            result.append(sentence)\r\n",
        "    return ' '.join(result)"
      ],
      "execution_count": 19,
      "outputs": []
    },
    {
      "cell_type": "code",
      "metadata": {
        "colab": {
          "base_uri": "https://localhost:8080/"
        },
        "id": "5PV66pAF7qNx",
        "outputId": "8db6c5e6-a46d-46b4-d4f2-5734da2ac3d9"
      },
      "source": [
        "data['Title']=data['title'].apply(lambda i : cleansing(i))\r\n",
        "data['Title']=data['maintext'].apply(lambda i : cleansing(i))\r\n",
        "data['Total']=data['Title']+'. '+data['Title']\r\n",
        "# BERT tokenizer로 tokenizing\r\n",
        "data['tokenized']=data['Total'].apply(lambda i : tokenizer.encode(i))\r\n",
        "# 길이\r\n",
        "data['len']=data['tokenized'].apply(lambda i : len(i))"
      ],
      "execution_count": 22,
      "outputs": [
        {
          "output_type": "stream",
          "text": [
            "Token indices sequence length is longer than the specified maximum sequence length for this model (539 > 512). Running this sequence through the model will result in indexing errors\n"
          ],
          "name": "stderr"
        }
      ]
    },
    {
      "cell_type": "code",
      "metadata": {
        "colab": {
          "base_uri": "https://localhost:8080/",
          "height": 335
        },
        "id": "lEpa1Od99zT5",
        "outputId": "62678413-74d5-4670-c666-9a8ac6e3c2c5"
      },
      "source": [
        "# Total length\r\n",
        "sns.histplot(data['len'])\r\n",
        "print('mean',data['len'].mean())\r\n",
        "print('max',data['len'].max())\r\n",
        "print('75%, 95%, 99%',np.percentile(data['len'].values,[75,95,99]))"
      ],
      "execution_count": 33,
      "outputs": [
        {
          "output_type": "stream",
          "text": [
            "mean 990.6266153081511\n",
            "max 18271\n",
            "75%, 95%, 99% [1239.   2344.3  4248.32]\n"
          ],
          "name": "stdout"
        },
        {
          "output_type": "display_data",
          "data": {
            "image/png": "[encoded data removed]",
            "text/plain": [
              "<Figure size 432x288 with 1 Axes>"
            ]
          },
          "metadata": {
            "tags": [],
            "needs_background": "light"
          }
        }
      ]
    },
    {
      "cell_type": "code",
      "metadata": {
        "colab": {
          "base_uri": "https://localhost:8080/",
          "height": 351
        },
        "id": "GU9ACwgd-Qmy",
        "outputId": "23f464d6-cd67-4d21-e8cb-7127b6d98f55"
      },
      "source": [
        "# 재해 인 경우\r\n",
        "plt.title('disaster')\r\n",
        "sns.histplot(data.loc[data['damage']==1,'len'])\r\n",
        "plt.show()\r\n",
        "print('mean',data.loc[data['damage']==1,'len'].mean())\r\n",
        "print('max',data.loc[data['damage']==1,'len'].max())\r\n",
        "print('75%, 95%, 99%',np.percentile(data.loc[data['damage']==1,'len'].values,[75,95,99]))"
      ],
      "execution_count": 31,
      "outputs": [
        {
          "output_type": "display_data",
          "data": {
            "image/png": "[encoded data removed]",
            "text/plain": [
              "<Figure size 432x288 with 1 Axes>"
            ]
          },
          "metadata": {
            "tags": [],
            "needs_background": "light"
          }
        },
        {
          "output_type": "stream",
          "text": [
            "mean 988.5972328977709\n",
            "max 7037\n",
            "75%, 95%, 99% [1277. 2055. 3341.]\n"
          ],
          "name": "stdout"
        }
      ]
    },
    {
      "cell_type": "code",
      "metadata": {
        "colab": {
          "base_uri": "https://localhost:8080/",
          "height": 351
        },
        "id": "uZAvO3Dg-orA",
        "outputId": "268dbcf4-35a4-4b04-d670-e35b6d9d14f6"
      },
      "source": [
        "# 비재해 인 경우\r\n",
        "plt.title('normal')\r\n",
        "sns.histplot(data.loc[data['damage']==0,'len'])\r\n",
        "plt.show()\r\n",
        "print('mean',data.loc[data['damage']==0,'len'].mean())\r\n",
        "print('max',data.loc[data['damage']==0,'len'].max())\r\n",
        "print('75%, 95%, 99%',np.percentile(data.loc[data['damage']==0,'len'].values,[75,95,99]))"
      ],
      "execution_count": 32,
      "outputs": [
        {
          "output_type": "display_data",
          "data": {
            "image/png": "[encoded data removed]",
            "text/plain": [
              "<Figure size 432x288 with 1 Axes>"
            ]
          },
          "metadata": {
            "tags": [],
            "needs_background": "light"
          }
        },
        {
          "output_type": "stream",
          "text": [
            "mean 991.0179338965467\n",
            "max 18271\n",
            "75%, 95%, 99% [1235.   2400.4  4560.24]\n"
          ],
          "name": "stdout"
        }
      ]
    },
    {
      "cell_type": "markdown",
      "metadata": {
        "id": "1YvYseRb_NzA"
      },
      "source": [
        "## EDA 한 줄 summary  \r\n",
        "###total length  \r\n",
        "mean 990  \r\n",
        "max 18271  \r\n",
        "95% 2344  \r\n",
        "###disaster length  \r\n",
        "mean 988  \r\n",
        "max 7037  \r\n",
        "95% 3341  \r\n",
        "###normal length  \r\n",
        "mean 991  \r\n",
        "max 18271  \r\n",
        "95% 4560  \r\n",
        "- 비재해인 경우가 더 긴 경향을 보임(평균은 비슷)    \r\n",
        "- KoBERT의 경우 max length가 512이므로, 길이 feature도 따로 넣어줄 생각  \r\n",
        "- 길이의 요소가 재해/비재해에 영향을 줄 수 있음.  "
      ]
    },
    {
      "cell_type": "markdown",
      "metadata": {
        "id": "KXm8JNkmSm10"
      },
      "source": [
        "# 문장별 전처리 \n",
        "각 문장의 앞마다 [CLS]  \n",
        "각 문장의 끝에는 [SEP]  \n",
        "문장의 길이 512로 자르기  "
      ]
    },
    {
      "cell_type": "code",
      "metadata": {
        "id": "IfwYKBD2yY9-"
      },
      "source": [
        "# max len으로 자르고, 모자란 부분은 패딩으로 채움\r\n",
        "data['ids'] = data['Total'].apply(lambda i : tokenizer.encode(i,add_special_tokens=True,truncation=True,padding='max_length',max_length=512))\r\n",
        "# attention mask - mask될 부분은 0, 아닌 부분은 1\r\n",
        "data['mask']=(torch.tensor(data['ids'].tolist()).eq(1)==0).long().tolist()"
      ],
      "execution_count": 34,
      "outputs": []
    },
    {
      "cell_type": "code",
      "metadata": {
        "id": "6DTN3ev-A2fI"
      },
      "source": [
        "# Train,Val,Test split\r\n",
        "from sklearn.model_selection import train_test_split\r\n",
        "train_data,test_data = train_test_split(data.loc[:,['ids','mask','len','damage']],test_size =1000)\r\n",
        "train_data,val_data = train_test_split(train_data.loc[:,['ids','mask','len','damage']],test_size =1000)"
      ],
      "execution_count": 40,
      "outputs": []
    },
    {
      "cell_type": "code",
      "metadata": {
        "id": "aSVmWQDQA5cw"
      },
      "source": [
        "# 저장\r\n",
        "train_data.to_pickle('./data/train_data')\r\n",
        "val_data.to_pickle('./data/val_data')\r\n",
        "test_data.to_pickle('./data/test_data')"
      ],
      "execution_count": 41,
      "outputs": []
    }
  ]
}